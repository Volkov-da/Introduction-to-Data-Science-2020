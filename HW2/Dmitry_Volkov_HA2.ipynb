{
 "cells": [
  {
   "cell_type": "markdown",
   "metadata": {},
   "source": [
    "## Skoltech\n",
    "## Intro to data science, fall 2020\n",
    "## Assigment 2\n",
    "\n",
    "### Goals\n",
    "- Make exploratory data analysis\n",
    "- Apply feature engineering and feature selection\n",
    "- Try to solve classification task and use classification performance metrics\n",
    "- Get the taste of gradient boosting approach\n",
    "\n",
    "\n",
    "# Submiting the answers\n",
    "\n",
    "Google form to submit your answers: https://docs.google.com/forms/d/1zwUO1KZNDTZYuD12dyMO3CaErGHnZuHx1Mdbo-c11ME/\n",
    "\n",
    "Use your **skoltech email**. For Name, Surname use **exactly the same spelling** as in canvas system.\n",
    "\n",
    "---\n",
    "\n",
    "If your answer is a ``float number``, then it must be provided with **3 decimals after the floating point**, e.g. 1.234\n",
    "\n",
    "---\n",
    "\n",
    "If your answer is a ``list of float or integer numbers or str``, then they should be reported in descending (alphabetical) order,  divided by a comma, e.g.:\n",
    "\n",
    "10.453,9.112,5.001,5.000\n",
    "\n",
    "---\n",
    "\n",
    "The last part (Q5) do not have corresponding fields in the google form. It is **not optional** and it will be graded manually from your .ipynb file.\n",
    "\n",
    "---\n",
    "\n",
    "If you have any questions regarding this Home Assignment, ask them piazza topic: https://piazza.com/class/kespugtqfrn12g?cid=29"
   ]
  },
  {
   "cell_type": "markdown",
   "metadata": {},
   "source": [
    "<div id=\"Contents\"></div><h1>Contents</h1>\n",
    "\n",
    "1. <a href='#Section 1'>Dataset acquaintance</a>\n",
    "\n",
    "    <a href='#q1.1'>Q1.1</a>\n",
    "    <a href='#q1.2'>Q1.2</a>\n",
    "      <a href='#q1.3'>Q1.3</a>\n",
    "      <a href='#q1.4'>Q1.4</a>\n",
    "      <a href='#q1.5'>Q1.5</a>\n",
    "      <a href='#q1.6'>Q1.6</a>\n",
    "      <a href='#q1.7'>Q1.7</a>\n",
    "      <a href='#q1.8'>Q1.8</a>\n",
    "      <a href='#q1.9'>Q1.9</a>\n",
    "      <a href='#q1.10'>Q1.10</a>\n",
    "      <a href='#q1.11'>Q1.11</a>\n",
    "      <a href='#q1.12'>Q1.12</a>\n",
    "\n",
    "\n",
    "2. <a href='#Section 2'>Feature Generation</a>\n",
    "\n",
    "      <a href='#q2.1'>Q2.1</a>\n",
    "      <a href='#q2.2'>Q2.2</a>\n",
    "      <a href='#q2.3'>Q2.3</a>\n",
    "      <a href='#q2.4'>Q2.4</a>\n",
    "      <a href='#q2.5'>Q2.5</a>\n",
    "      <a href='#q2.6'>Q2.6</a>\n",
    "      \n",
    "      \n",
    "3. <a href='#Section 3'>Preprocessing</a>\n",
    "    <ul>\n",
    "    <li><a href='#q3.1'>Q3.1 Drop the leaking columns</a></li>\n",
    "      <li><a href='#q3.2'>Q3.2 Deal with the categorical features</a></li>\n",
    "      <li><a href='#q3.3'>Q3.3 Split the dataset</a></li>\n",
    "      <li><a href='#q3.4'>Q3.4 Scale the numeric columns with standard scaler</a></li>\n",
    "    </ul>\n",
    "    \n",
    "    \n",
    "4. <a href='#Section 4'>Feature selection</a>  \n",
    "    <ul>\n",
    "      <li><a href='#q4.1'>Q4.1 Estimate feature importance by Anova</a></li>\n",
    "      <li><a href='#q4.2'>Q4.2 Estimate optimal C for l2 regularization</a></li>\n",
    "      <li><a href='#q4.3'>Q4.3 Calculate accuracy for this params</a></li>\n",
    "      <li><a href='#q4.4'>Q4.4 Most important features by logistic regression</a></li>\n",
    "      <li><a href='#q4.5'>Q4.5 Building ROC curve and calculate ROC-AUC score.</a></li>\n",
    "      <li><a href='#q4.6'>Q4.6 Optimal depth and number of trees for RF model</a></li>\n",
    "      <li><a href='#q4.7'>Q4.7 Accuracy of RF model</a></li>\n",
    "      <li><a href='#q4.8'>Q4.8 Build precision-recall curve</a></li>\n",
    "      <li><a href='#q4.9'>Q4.9 Most important features by RF</a></li>\n",
    "    </ul>\n",
    "    \n",
    "    \n",
    "5. <a href='#Section 5'>Build the stronger model</a>\n",
    "    <ul>\n",
    "      <li><a href='#q5.0'>Q5.0 Estimate feature importance by Anova</a></li>\n",
    "      <li><a href='#q5.1'>Q5.1 Estimate optimal C for l2 regularization</a></li>\n",
    "      <li><a href='#q5.2'>Q5.2 Calculate accuracy for this params</a></li>\n",
    "    </ul>"
   ]
  },
  {
   "cell_type": "markdown",
   "metadata": {},
   "source": [
    "#### Import basic libraries"
   ]
  },
  {
   "cell_type": "code",
   "execution_count": 1,
   "metadata": {
    "ExecuteTime": {
     "end_time": "2020-10-02T18:08:58.892662Z",
     "start_time": "2020-10-02T18:08:58.860005Z"
    },
    "id": "IxQ5oO5xbtyW"
   },
   "outputs": [],
   "source": [
    "import pandas as pd\n",
    "import numpy as np\n",
    "import matplotlib.pyplot as plt\n",
    "%matplotlib inline\n",
    "\n",
    "pd.options.display.max_colwidth = 150\n",
    "pd.options.display.float_format = '{:.3f}'.format\n",
    "import seaborn as sns\n",
    "\n",
    "import warnings\n",
    "warnings.filterwarnings('ignore')"
   ]
  },
  {
   "cell_type": "markdown",
   "metadata": {},
   "source": [
    "### Dataset\n",
    "For the task we'll use kickstarter dataset. Kickstarter is the crowdfounding platform, where people can announce their project with financial goals and other can support the projects by paying the money (\"pledging\"). The goal will be to predict if the project will be successfull, i.e. would it achieve the funding goal. Let's take a brief look to the dataset."
   ]
  },
  {
   "cell_type": "code",
   "execution_count": 2,
   "metadata": {
    "ExecuteTime": {
     "end_time": "2020-10-02T17:57:36.371971Z",
     "start_time": "2020-10-02T17:57:35.407393Z"
    },
    "id": "mBWPB2ajcTnj"
   },
   "outputs": [],
   "source": [
    "df = pd.read_csv('ks-projects-201801.csv')\n",
    "df.set_index(\"ID\", inplace=True)"
   ]
  },
  {
   "cell_type": "code",
   "execution_count": 3,
   "metadata": {
    "ExecuteTime": {
     "end_time": "2020-10-02T17:57:36.404203Z",
     "start_time": "2020-10-02T17:57:36.375763Z"
    },
    "colab": {
     "base_uri": "https://localhost:8080/",
     "height": 431
    },
    "id": "bA52wUNelGmZ",
    "outputId": "2258994a-956f-47fd-e295-7ecda8077687"
   },
   "outputs": [
    {
     "data": {
      "text/html": [
       "<div>\n",
       "<style scoped>\n",
       "    .dataframe tbody tr th:only-of-type {\n",
       "        vertical-align: middle;\n",
       "    }\n",
       "\n",
       "    .dataframe tbody tr th {\n",
       "        vertical-align: top;\n",
       "    }\n",
       "\n",
       "    .dataframe thead th {\n",
       "        text-align: right;\n",
       "    }\n",
       "</style>\n",
       "<table border=\"1\" class=\"dataframe\">\n",
       "  <thead>\n",
       "    <tr style=\"text-align: right;\">\n",
       "      <th></th>\n",
       "      <th>name</th>\n",
       "      <th>category</th>\n",
       "      <th>main_category</th>\n",
       "      <th>currency</th>\n",
       "      <th>deadline</th>\n",
       "      <th>goal</th>\n",
       "      <th>launched</th>\n",
       "      <th>pledged</th>\n",
       "      <th>state</th>\n",
       "      <th>backers</th>\n",
       "      <th>country</th>\n",
       "      <th>usd pledged</th>\n",
       "      <th>usd_pledged_real</th>\n",
       "      <th>usd_goal_real</th>\n",
       "    </tr>\n",
       "    <tr>\n",
       "      <th>ID</th>\n",
       "      <th></th>\n",
       "      <th></th>\n",
       "      <th></th>\n",
       "      <th></th>\n",
       "      <th></th>\n",
       "      <th></th>\n",
       "      <th></th>\n",
       "      <th></th>\n",
       "      <th></th>\n",
       "      <th></th>\n",
       "      <th></th>\n",
       "      <th></th>\n",
       "      <th></th>\n",
       "      <th></th>\n",
       "    </tr>\n",
       "  </thead>\n",
       "  <tbody>\n",
       "    <tr>\n",
       "      <th>624928353</th>\n",
       "      <td>Power Ranger Academy</td>\n",
       "      <td>Webseries</td>\n",
       "      <td>Film &amp; Video</td>\n",
       "      <td>USD</td>\n",
       "      <td>2014-02-03</td>\n",
       "      <td>20000.000</td>\n",
       "      <td>2014-01-09 00:23:22</td>\n",
       "      <td>100.000</td>\n",
       "      <td>failed</td>\n",
       "      <td>1</td>\n",
       "      <td>US</td>\n",
       "      <td>100.000</td>\n",
       "      <td>100.000</td>\n",
       "      <td>20000.000</td>\n",
       "    </tr>\n",
       "    <tr>\n",
       "      <th>2025532980</th>\n",
       "      <td>YAPPATTACK</td>\n",
       "      <td>Apps</td>\n",
       "      <td>Technology</td>\n",
       "      <td>USD</td>\n",
       "      <td>2017-07-08</td>\n",
       "      <td>15000.000</td>\n",
       "      <td>2017-05-09 17:00:52</td>\n",
       "      <td>475.000</td>\n",
       "      <td>failed</td>\n",
       "      <td>10</td>\n",
       "      <td>US</td>\n",
       "      <td>220.000</td>\n",
       "      <td>475.000</td>\n",
       "      <td>15000.000</td>\n",
       "    </tr>\n",
       "    <tr>\n",
       "      <th>628751841</th>\n",
       "      <td>Kite Loop Generator</td>\n",
       "      <td>Product Design</td>\n",
       "      <td>Design</td>\n",
       "      <td>USD</td>\n",
       "      <td>2015-06-09</td>\n",
       "      <td>2500.000</td>\n",
       "      <td>2015-05-05 17:52:16</td>\n",
       "      <td>446.000</td>\n",
       "      <td>failed</td>\n",
       "      <td>5</td>\n",
       "      <td>US</td>\n",
       "      <td>446.000</td>\n",
       "      <td>446.000</td>\n",
       "      <td>2500.000</td>\n",
       "    </tr>\n",
       "  </tbody>\n",
       "</table>\n",
       "</div>"
      ],
      "text/plain": [
       "                            name        category main_category currency  \\\n",
       "ID                                                                        \n",
       "624928353   Power Ranger Academy       Webseries  Film & Video      USD   \n",
       "2025532980            YAPPATTACK            Apps    Technology      USD   \n",
       "628751841    Kite Loop Generator  Product Design        Design      USD   \n",
       "\n",
       "              deadline      goal             launched  pledged   state  \\\n",
       "ID                                                                       \n",
       "624928353   2014-02-03 20000.000  2014-01-09 00:23:22  100.000  failed   \n",
       "2025532980  2017-07-08 15000.000  2017-05-09 17:00:52  475.000  failed   \n",
       "628751841   2015-06-09  2500.000  2015-05-05 17:52:16  446.000  failed   \n",
       "\n",
       "            backers country  usd pledged  usd_pledged_real  usd_goal_real  \n",
       "ID                                                                         \n",
       "624928353         1      US      100.000           100.000      20000.000  \n",
       "2025532980       10      US      220.000           475.000      15000.000  \n",
       "628751841         5      US      446.000           446.000       2500.000  "
      ]
     },
     "execution_count": 3,
     "metadata": {},
     "output_type": "execute_result"
    }
   ],
   "source": [
    "df.sample(3)"
   ]
  },
  {
   "cell_type": "code",
   "execution_count": 4,
   "metadata": {
    "ExecuteTime": {
     "end_time": "2020-10-02T17:57:36.412482Z",
     "start_time": "2020-10-02T17:57:36.407665Z"
    }
   },
   "outputs": [
    {
     "data": {
      "text/plain": [
       "(378661, 14)"
      ]
     },
     "execution_count": 4,
     "metadata": {},
     "output_type": "execute_result"
    }
   ],
   "source": [
    "df.shape"
   ]
  },
  {
   "cell_type": "code",
   "execution_count": 5,
   "metadata": {
    "ExecuteTime": {
     "end_time": "2020-10-02T17:57:36.488401Z",
     "start_time": "2020-10-02T17:57:36.414999Z"
    },
    "scrolled": true
   },
   "outputs": [
    {
     "data": {
      "text/plain": [
       "failed        197719\n",
       "successful    133956\n",
       "canceled       38779\n",
       "undefined       3562\n",
       "live            2799\n",
       "suspended       1846\n",
       "Name: state, dtype: int64"
      ]
     },
     "execution_count": 5,
     "metadata": {},
     "output_type": "execute_result"
    }
   ],
   "source": [
    "df.state.value_counts()"
   ]
  },
  {
   "cell_type": "markdown",
   "metadata": {},
   "source": [
    "---"
   ]
  },
  {
   "cell_type": "markdown",
   "metadata": {},
   "source": [
    "<div id=\"Section 1\"><h1><a href=#Contents>Section 1. Dataset acquaintance</a></h1></div>\n",
    "\n"
   ]
  },
  {
   "cell_type": "markdown",
   "metadata": {},
   "source": [
    "<div id='q1.1'><h3> <a href=#Contents>Q1.1</a> </h3></div> \n",
    "\n",
    " How many NaN values are there in the dataset?"
   ]
  },
  {
   "cell_type": "code",
   "execution_count": 6,
   "metadata": {
    "ExecuteTime": {
     "end_time": "2020-10-02T17:57:36.710319Z",
     "start_time": "2020-10-02T17:57:36.490867Z"
    }
   },
   "outputs": [
    {
     "data": {
      "text/plain": [
       "3801"
      ]
     },
     "execution_count": 6,
     "metadata": {},
     "output_type": "execute_result"
    }
   ],
   "source": [
    "df.isna().sum().sum()"
   ]
  },
  {
   "cell_type": "code",
   "execution_count": 7,
   "metadata": {},
   "outputs": [],
   "source": [
    "df.dropna(axis=0, inplace=True)"
   ]
  },
  {
   "cell_type": "markdown",
   "metadata": {},
   "source": [
    "----"
   ]
  },
  {
   "cell_type": "markdown",
   "metadata": {},
   "source": [
    "<div id='q1.2'> <h3> <a href=#Contents>Q1.2</a> </h3></div>\n",
    "\n",
    "Let us simplify the task a little bit: we are aiming to predict either project fails or not.\n",
    "Thus 'success' projects will be encoded as 1, with state `['failed', 'canceled']` as 0 and we remove the rows with any other state.\n",
    "\n",
    "How many '1' values are in resulting dataset (in state column)?"
   ]
  },
  {
   "cell_type": "code",
   "execution_count": 8,
   "metadata": {
    "ExecuteTime": {
     "end_time": "2020-10-02T17:57:37.000558Z",
     "start_time": "2020-10-02T17:57:36.712465Z"
    }
   },
   "outputs": [],
   "source": [
    "df = df[df.state.isin(['failed', 'canceled', 'successful'])]\n",
    "df['state'] = [int(i == 'successful') for i in df.state]\n",
    "df = df.rename(columns={'state' : 'succeses'})"
   ]
  },
  {
   "cell_type": "code",
   "execution_count": 9,
   "metadata": {},
   "outputs": [
    {
     "data": {
      "text/plain": [
       "370219"
      ]
     },
     "execution_count": 9,
     "metadata": {},
     "output_type": "execute_result"
    }
   ],
   "source": [
    "df.shape[0]"
   ]
  },
  {
   "cell_type": "code",
   "execution_count": 10,
   "metadata": {
    "ExecuteTime": {
     "end_time": "2020-10-02T17:57:37.069883Z",
     "start_time": "2020-10-02T17:57:37.004784Z"
    },
    "scrolled": true
   },
   "outputs": [
    {
     "data": {
      "image/png": "[encoded data removed]",
      "text/plain": [
       "<Figure size 432x288 with 1 Axes>"
      ]
     },
     "metadata": {},
     "output_type": "display_data"
    }
   ],
   "source": [
    "pie_data = df.succeses.value_counts()\n",
    "plt.pie(pie_data,\n",
    "        autopct='%1.1f%%',\n",
    "        labels = ['failed or canceled', 'successful'],\n",
    "       colors=['#ff9999','#99ff99']);"
   ]
  },
  {
   "cell_type": "code",
   "execution_count": 11,
   "metadata": {
    "ExecuteTime": {
     "end_time": "2020-10-02T17:57:37.082987Z",
     "start_time": "2020-10-02T17:57:37.074983Z"
    }
   },
   "outputs": [
    {
     "name": "stdout",
     "output_type": "stream",
     "text": [
      "133851\n"
     ]
    }
   ],
   "source": [
    "print((df.succeses == 1).sum())"
   ]
  },
  {
   "cell_type": "markdown",
   "metadata": {},
   "source": [
    "------"
   ]
  },
  {
   "cell_type": "markdown",
   "metadata": {},
   "source": [
    "<div id='q1.3'> <h3><a href=#Contents>Q1.3</a></h3></div>\n",
    "\n",
    "\n",
    "Whats is a name of a project with highest average pay check? Use column `usd_pledged_real` to judge."
   ]
  },
  {
   "cell_type": "code",
   "execution_count": 12,
   "metadata": {
    "ExecuteTime": {
     "end_time": "2020-10-02T17:57:37.362850Z",
     "start_time": "2020-10-02T17:57:37.090939Z"
    },
    "scrolled": false
   },
   "outputs": [
    {
     "data": {
      "text/html": [
       "<div>\n",
       "<style scoped>\n",
       "    .dataframe tbody tr th:only-of-type {\n",
       "        vertical-align: middle;\n",
       "    }\n",
       "\n",
       "    .dataframe tbody tr th {\n",
       "        vertical-align: top;\n",
       "    }\n",
       "\n",
       "    .dataframe thead th {\n",
       "        text-align: right;\n",
       "    }\n",
       "</style>\n",
       "<table border=\"1\" class=\"dataframe\">\n",
       "  <thead>\n",
       "    <tr style=\"text-align: right;\">\n",
       "      <th></th>\n",
       "      <th>name</th>\n",
       "      <th>category</th>\n",
       "      <th>main_category</th>\n",
       "      <th>currency</th>\n",
       "      <th>deadline</th>\n",
       "      <th>goal</th>\n",
       "      <th>launched</th>\n",
       "      <th>pledged</th>\n",
       "      <th>succeses</th>\n",
       "      <th>backers</th>\n",
       "      <th>country</th>\n",
       "      <th>usd pledged</th>\n",
       "      <th>usd_pledged_real</th>\n",
       "      <th>usd_goal_real</th>\n",
       "      <th>avg_check</th>\n",
       "    </tr>\n",
       "    <tr>\n",
       "      <th>ID</th>\n",
       "      <th></th>\n",
       "      <th></th>\n",
       "      <th></th>\n",
       "      <th></th>\n",
       "      <th></th>\n",
       "      <th></th>\n",
       "      <th></th>\n",
       "      <th></th>\n",
       "      <th></th>\n",
       "      <th></th>\n",
       "      <th></th>\n",
       "      <th></th>\n",
       "      <th></th>\n",
       "      <th></th>\n",
       "      <th></th>\n",
       "    </tr>\n",
       "  </thead>\n",
       "  <tbody>\n",
       "    <tr>\n",
       "      <th>472233286</th>\n",
       "      <td>Hollow Earth Project, Journey to the center of the Earth,</td>\n",
       "      <td>Documentary</td>\n",
       "      <td>Film &amp; Video</td>\n",
       "      <td>USD</td>\n",
       "      <td>2016-11-25</td>\n",
       "      <td>1000000.000</td>\n",
       "      <td>2016-09-26 18:36:53</td>\n",
       "      <td>10000.000</td>\n",
       "      <td>0</td>\n",
       "      <td>1</td>\n",
       "      <td>US</td>\n",
       "      <td>10000.000</td>\n",
       "      <td>10000.000</td>\n",
       "      <td>1000000.000</td>\n",
       "      <td>10000.000</td>\n",
       "    </tr>\n",
       "    <tr>\n",
       "      <th>889803741</th>\n",
       "      <td>Post Traumatic Stress (PTSD) Affects Us All</td>\n",
       "      <td>Documentary</td>\n",
       "      <td>Film &amp; Video</td>\n",
       "      <td>USD</td>\n",
       "      <td>2013-09-14</td>\n",
       "      <td>1500000.000</td>\n",
       "      <td>2013-08-15 00:07:18</td>\n",
       "      <td>10000.000</td>\n",
       "      <td>0</td>\n",
       "      <td>1</td>\n",
       "      <td>US</td>\n",
       "      <td>10000.000</td>\n",
       "      <td>10000.000</td>\n",
       "      <td>1500000.000</td>\n",
       "      <td>10000.000</td>\n",
       "    </tr>\n",
       "    <tr>\n",
       "      <th>642968820</th>\n",
       "      <td>Nobody: The Movie (Canceled)</td>\n",
       "      <td>Film &amp; Video</td>\n",
       "      <td>Film &amp; Video</td>\n",
       "      <td>USD</td>\n",
       "      <td>2015-04-22</td>\n",
       "      <td>60000.000</td>\n",
       "      <td>2015-02-21 23:07:08</td>\n",
       "      <td>10000.000</td>\n",
       "      <td>0</td>\n",
       "      <td>1</td>\n",
       "      <td>US</td>\n",
       "      <td>10000.000</td>\n",
       "      <td>10000.000</td>\n",
       "      <td>60000.000</td>\n",
       "      <td>10000.000</td>\n",
       "    </tr>\n",
       "  </tbody>\n",
       "</table>\n",
       "</div>"
      ],
      "text/plain": [
       "                                                                name  \\\n",
       "ID                                                                     \n",
       "472233286  Hollow Earth Project, Journey to the center of the Earth,   \n",
       "889803741                Post Traumatic Stress (PTSD) Affects Us All   \n",
       "642968820                               Nobody: The Movie (Canceled)   \n",
       "\n",
       "               category main_category currency    deadline        goal  \\\n",
       "ID                                                                       \n",
       "472233286   Documentary  Film & Video      USD  2016-11-25 1000000.000   \n",
       "889803741   Documentary  Film & Video      USD  2013-09-14 1500000.000   \n",
       "642968820  Film & Video  Film & Video      USD  2015-04-22   60000.000   \n",
       "\n",
       "                      launched   pledged  succeses  backers country  \\\n",
       "ID                                                                    \n",
       "472233286  2016-09-26 18:36:53 10000.000         0        1      US   \n",
       "889803741  2013-08-15 00:07:18 10000.000         0        1      US   \n",
       "642968820  2015-02-21 23:07:08 10000.000         0        1      US   \n",
       "\n",
       "           usd pledged  usd_pledged_real  usd_goal_real  avg_check  \n",
       "ID                                                                  \n",
       "472233286    10000.000         10000.000    1000000.000  10000.000  \n",
       "889803741    10000.000         10000.000    1500000.000  10000.000  \n",
       "642968820    10000.000         10000.000      60000.000  10000.000  "
      ]
     },
     "execution_count": 12,
     "metadata": {},
     "output_type": "execute_result"
    }
   ],
   "source": [
    "tmp_df = df[df['backers'] > 0]\n",
    "\n",
    "tmp_df['avg_check'] = tmp_df.usd_pledged_real / tmp_df.backers\n",
    "\n",
    "tmp_df.sort_values(by='avg_check', ascending=False).head(3)"
   ]
  },
  {
   "cell_type": "code",
   "execution_count": 13,
   "metadata": {
    "ExecuteTime": {
     "end_time": "2020-10-02T17:57:37.410076Z",
     "start_time": "2020-10-02T17:57:37.364574Z"
    }
   },
   "outputs": [
    {
     "data": {
      "text/html": [
       "<div>\n",
       "<style scoped>\n",
       "    .dataframe tbody tr th:only-of-type {\n",
       "        vertical-align: middle;\n",
       "    }\n",
       "\n",
       "    .dataframe tbody tr th {\n",
       "        vertical-align: top;\n",
       "    }\n",
       "\n",
       "    .dataframe thead th {\n",
       "        text-align: right;\n",
       "    }\n",
       "</style>\n",
       "<table border=\"1\" class=\"dataframe\">\n",
       "  <thead>\n",
       "    <tr style=\"text-align: right;\">\n",
       "      <th></th>\n",
       "      <th>name</th>\n",
       "      <th>avg_check</th>\n",
       "    </tr>\n",
       "    <tr>\n",
       "      <th>ID</th>\n",
       "      <th></th>\n",
       "      <th></th>\n",
       "    </tr>\n",
       "  </thead>\n",
       "  <tbody>\n",
       "    <tr>\n",
       "      <th>1459482568</th>\n",
       "      <td>Patented (9 seasons) food enhancer</td>\n",
       "      <td>10000.000</td>\n",
       "    </tr>\n",
       "    <tr>\n",
       "      <th>1767293256</th>\n",
       "      <td>KIRISUTOS PACHYDERM</td>\n",
       "      <td>10000.000</td>\n",
       "    </tr>\n",
       "    <tr>\n",
       "      <th>1974395971</th>\n",
       "      <td>21st CENTURY MEDICAL PRACTICE SYSTEM THAT CHANGES THE WORLD</td>\n",
       "      <td>10000.000</td>\n",
       "    </tr>\n",
       "    <tr>\n",
       "      <th>2024799289</th>\n",
       "      <td>The Commoner Princess</td>\n",
       "      <td>10000.000</td>\n",
       "    </tr>\n",
       "    <tr>\n",
       "      <th>281085395</th>\n",
       "      <td>\"SUNBURN\" - starring Michael Madsen, indie action film</td>\n",
       "      <td>10000.000</td>\n",
       "    </tr>\n",
       "    <tr>\n",
       "      <th>472233286</th>\n",
       "      <td>Hollow Earth Project, Journey to the center of the Earth,</td>\n",
       "      <td>10000.000</td>\n",
       "    </tr>\n",
       "    <tr>\n",
       "      <th>642968820</th>\n",
       "      <td>Nobody: The Movie (Canceled)</td>\n",
       "      <td>10000.000</td>\n",
       "    </tr>\n",
       "    <tr>\n",
       "      <th>889803741</th>\n",
       "      <td>Post Traumatic Stress (PTSD) Affects Us All</td>\n",
       "      <td>10000.000</td>\n",
       "    </tr>\n",
       "    <tr>\n",
       "      <th>912587650</th>\n",
       "      <td>The Hare On The Chair - An Easter Legend</td>\n",
       "      <td>10000.000</td>\n",
       "    </tr>\n",
       "  </tbody>\n",
       "</table>\n",
       "</div>"
      ],
      "text/plain": [
       "                                                                   name  \\\n",
       "ID                                                                        \n",
       "1459482568                           Patented (9 seasons) food enhancer   \n",
       "1767293256                                          KIRISUTOS PACHYDERM   \n",
       "1974395971  21st CENTURY MEDICAL PRACTICE SYSTEM THAT CHANGES THE WORLD   \n",
       "2024799289                                        The Commoner Princess   \n",
       "281085395        \"SUNBURN\" - starring Michael Madsen, indie action film   \n",
       "472233286     Hollow Earth Project, Journey to the center of the Earth,   \n",
       "642968820                                  Nobody: The Movie (Canceled)   \n",
       "889803741                   Post Traumatic Stress (PTSD) Affects Us All   \n",
       "912587650                      The Hare On The Chair - An Easter Legend   \n",
       "\n",
       "            avg_check  \n",
       "ID                     \n",
       "1459482568  10000.000  \n",
       "1767293256  10000.000  \n",
       "1974395971  10000.000  \n",
       "2024799289  10000.000  \n",
       "281085395   10000.000  \n",
       "472233286   10000.000  \n",
       "642968820   10000.000  \n",
       "889803741   10000.000  \n",
       "912587650   10000.000  "
      ]
     },
     "execution_count": 13,
     "metadata": {},
     "output_type": "execute_result"
    }
   ],
   "source": [
    "tmp_df[tmp_df.avg_check == tmp_df.avg_check.max()][['name', 'avg_check']]"
   ]
  },
  {
   "cell_type": "markdown",
   "metadata": {},
   "source": [
    "-----"
   ]
  },
  {
   "cell_type": "markdown",
   "metadata": {},
   "source": [
    "<div id='q1.4'> <h3> <a href=#Contents>Q1.4</a> </h3></div>\n",
    "\n",
    "What is the most successful main category (in terms of success percentage)?"
   ]
  },
  {
   "cell_type": "code",
   "execution_count": 14,
   "metadata": {
    "ExecuteTime": {
     "end_time": "2020-10-02T17:57:37.468352Z",
     "start_time": "2020-10-02T17:57:37.412401Z"
    }
   },
   "outputs": [
    {
     "data": {
      "text/html": [
       "<div>\n",
       "<style scoped>\n",
       "    .dataframe tbody tr th:only-of-type {\n",
       "        vertical-align: middle;\n",
       "    }\n",
       "\n",
       "    .dataframe tbody tr th {\n",
       "        vertical-align: top;\n",
       "    }\n",
       "\n",
       "    .dataframe thead th {\n",
       "        text-align: right;\n",
       "    }\n",
       "</style>\n",
       "<table border=\"1\" class=\"dataframe\">\n",
       "  <thead>\n",
       "    <tr style=\"text-align: right;\">\n",
       "      <th></th>\n",
       "      <th>main_category</th>\n",
       "      <th>success_rate</th>\n",
       "    </tr>\n",
       "  </thead>\n",
       "  <tbody>\n",
       "    <tr>\n",
       "      <th>3</th>\n",
       "      <td>Dance</td>\n",
       "      <td>0.626</td>\n",
       "    </tr>\n",
       "    <tr>\n",
       "      <th>14</th>\n",
       "      <td>Theater</td>\n",
       "      <td>0.602</td>\n",
       "    </tr>\n",
       "    <tr>\n",
       "      <th>1</th>\n",
       "      <td>Comics</td>\n",
       "      <td>0.545</td>\n",
       "    </tr>\n",
       "    <tr>\n",
       "      <th>10</th>\n",
       "      <td>Music</td>\n",
       "      <td>0.491</td>\n",
       "    </tr>\n",
       "    <tr>\n",
       "      <th>0</th>\n",
       "      <td>Art</td>\n",
       "      <td>0.413</td>\n",
       "    </tr>\n",
       "    <tr>\n",
       "      <th>6</th>\n",
       "      <td>Film &amp; Video</td>\n",
       "      <td>0.379</td>\n",
       "    </tr>\n",
       "    <tr>\n",
       "      <th>8</th>\n",
       "      <td>Games</td>\n",
       "      <td>0.361</td>\n",
       "    </tr>\n",
       "    <tr>\n",
       "      <th>4</th>\n",
       "      <td>Design</td>\n",
       "      <td>0.357</td>\n",
       "    </tr>\n",
       "    <tr>\n",
       "      <th>12</th>\n",
       "      <td>Publishing</td>\n",
       "      <td>0.315</td>\n",
       "    </tr>\n",
       "    <tr>\n",
       "      <th>11</th>\n",
       "      <td>Photography</td>\n",
       "      <td>0.310</td>\n",
       "    </tr>\n",
       "    <tr>\n",
       "      <th>7</th>\n",
       "      <td>Food</td>\n",
       "      <td>0.251</td>\n",
       "    </tr>\n",
       "    <tr>\n",
       "      <th>5</th>\n",
       "      <td>Fashion</td>\n",
       "      <td>0.249</td>\n",
       "    </tr>\n",
       "    <tr>\n",
       "      <th>2</th>\n",
       "      <td>Crafts</td>\n",
       "      <td>0.244</td>\n",
       "    </tr>\n",
       "    <tr>\n",
       "      <th>9</th>\n",
       "      <td>Journalism</td>\n",
       "      <td>0.217</td>\n",
       "    </tr>\n",
       "    <tr>\n",
       "      <th>13</th>\n",
       "      <td>Technology</td>\n",
       "      <td>0.203</td>\n",
       "    </tr>\n",
       "  </tbody>\n",
       "</table>\n",
       "</div>"
      ],
      "text/plain": [
       "   main_category  success_rate\n",
       "3          Dance         0.626\n",
       "14       Theater         0.602\n",
       "1         Comics         0.545\n",
       "10         Music         0.491\n",
       "0            Art         0.413\n",
       "6   Film & Video         0.379\n",
       "8          Games         0.361\n",
       "4         Design         0.357\n",
       "12    Publishing         0.315\n",
       "11   Photography         0.310\n",
       "7           Food         0.251\n",
       "5        Fashion         0.249\n",
       "2         Crafts         0.244\n",
       "9     Journalism         0.217\n",
       "13    Technology         0.203"
      ]
     },
     "execution_count": 14,
     "metadata": {},
     "output_type": "execute_result"
    }
   ],
   "source": [
    "df.groupby('main_category', as_index=False)['succeses'].mean()\\\n",
    "                    .sort_values(by='succeses', ascending=False)\\\n",
    "                    .rename(columns = {'succeses' : 'success_rate'})"
   ]
  },
  {
   "cell_type": "markdown",
   "metadata": {},
   "source": [
    "### Answer:"
   ]
  },
  {
   "cell_type": "code",
   "execution_count": null,
   "metadata": {},
   "outputs": [],
   "source": []
  },
  {
   "cell_type": "markdown",
   "metadata": {},
   "source": [
    "-----"
   ]
  },
  {
   "cell_type": "markdown",
   "metadata": {
    "jupyter": {
     "outputs_hidden": true
    }
   },
   "source": [
    "<div id='q1.5'> <h3> <a href=#Contents>Q1.5</a> </h3></div>\n",
    "\n",
    "Define the category with highest goal per project. How many projects belong to it?  (note: we use category here, not main_category)"
   ]
  },
  {
   "cell_type": "code",
   "execution_count": 15,
   "metadata": {
    "ExecuteTime": {
     "end_time": "2020-10-02T17:57:37.554314Z",
     "start_time": "2020-10-02T17:57:37.470982Z"
    }
   },
   "outputs": [],
   "source": [
    "df_goals_by_category = df.groupby('category', as_index=False) \\\n",
    "                    .agg({'goal' : 'mean', 'succeses' : 'count'})\\\n",
    "                    .sort_values(by='goal', ascending=False)\\\n",
    "                    .rename(columns = {'goal' : 'mean_goal', 'succeses' : 'times_met'})"
   ]
  },
  {
   "cell_type": "code",
   "execution_count": 16,
   "metadata": {
    "ExecuteTime": {
     "end_time": "2020-10-02T17:57:37.598456Z",
     "start_time": "2020-10-02T17:57:37.570527Z"
    }
   },
   "outputs": [
    {
     "data": {
      "text/html": [
       "<div>\n",
       "<style scoped>\n",
       "    .dataframe tbody tr th:only-of-type {\n",
       "        vertical-align: middle;\n",
       "    }\n",
       "\n",
       "    .dataframe tbody tr th {\n",
       "        vertical-align: top;\n",
       "    }\n",
       "\n",
       "    .dataframe thead th {\n",
       "        text-align: right;\n",
       "    }\n",
       "</style>\n",
       "<table border=\"1\" class=\"dataframe\">\n",
       "  <thead>\n",
       "    <tr style=\"text-align: right;\">\n",
       "      <th></th>\n",
       "      <th>category</th>\n",
       "      <th>mean_goal</th>\n",
       "      <th>times_met</th>\n",
       "    </tr>\n",
       "  </thead>\n",
       "  <tbody>\n",
       "    <tr>\n",
       "      <th>89</th>\n",
       "      <td>Movie Theaters</td>\n",
       "      <td>1594601.436</td>\n",
       "      <td>227</td>\n",
       "    </tr>\n",
       "    <tr>\n",
       "      <th>133</th>\n",
       "      <td>Space Exploration</td>\n",
       "      <td>624554.721</td>\n",
       "      <td>312</td>\n",
       "    </tr>\n",
       "    <tr>\n",
       "      <th>49</th>\n",
       "      <td>Fantasy</td>\n",
       "      <td>621605.801</td>\n",
       "      <td>337</td>\n",
       "    </tr>\n",
       "    <tr>\n",
       "      <th>9</th>\n",
       "      <td>Architecture</td>\n",
       "      <td>476579.702</td>\n",
       "      <td>738</td>\n",
       "    </tr>\n",
       "    <tr>\n",
       "      <th>127</th>\n",
       "      <td>Science Fiction</td>\n",
       "      <td>429981.733</td>\n",
       "      <td>735</td>\n",
       "    </tr>\n",
       "  </tbody>\n",
       "</table>\n",
       "</div>"
      ],
      "text/plain": [
       "              category   mean_goal  times_met\n",
       "89      Movie Theaters 1594601.436        227\n",
       "133  Space Exploration  624554.721        312\n",
       "49             Fantasy  621605.801        337\n",
       "9         Architecture  476579.702        738\n",
       "127    Science Fiction  429981.733        735"
      ]
     },
     "execution_count": 16,
     "metadata": {},
     "output_type": "execute_result"
    }
   ],
   "source": [
    "df_goals_by_category.head()"
   ]
  },
  {
   "cell_type": "markdown",
   "metadata": {},
   "source": [
    "-----"
   ]
  },
  {
   "cell_type": "markdown",
   "metadata": {},
   "source": [
    "<div id='q1.6'> <h3> <a href=#Contents>Q1.6</a> </h3></div>\n",
    "\n",
    "What is the category with biggest total pledge? Use 'usd_pledged_real' to judge."
   ]
  },
  {
   "cell_type": "markdown",
   "metadata": {},
   "source": [
    "------"
   ]
  },
  {
   "cell_type": "code",
   "execution_count": 17,
   "metadata": {
    "ExecuteTime": {
     "end_time": "2020-10-02T17:57:37.675584Z",
     "start_time": "2020-10-02T17:57:37.605796Z"
    }
   },
   "outputs": [
    {
     "data": {
      "text/html": [
       "<div>\n",
       "<style scoped>\n",
       "    .dataframe tbody tr th:only-of-type {\n",
       "        vertical-align: middle;\n",
       "    }\n",
       "\n",
       "    .dataframe tbody tr th {\n",
       "        vertical-align: top;\n",
       "    }\n",
       "\n",
       "    .dataframe thead th {\n",
       "        text-align: right;\n",
       "    }\n",
       "</style>\n",
       "<table border=\"1\" class=\"dataframe\">\n",
       "  <thead>\n",
       "    <tr style=\"text-align: right;\">\n",
       "      <th></th>\n",
       "      <th>category</th>\n",
       "      <th>total_pledge</th>\n",
       "    </tr>\n",
       "  </thead>\n",
       "  <tbody>\n",
       "    <tr>\n",
       "      <th>113</th>\n",
       "      <td>Product Design</td>\n",
       "      <td>628437968.480</td>\n",
       "    </tr>\n",
       "    <tr>\n",
       "      <th>136</th>\n",
       "      <td>Tabletop Games</td>\n",
       "      <td>462584782.120</td>\n",
       "    </tr>\n",
       "    <tr>\n",
       "      <th>148</th>\n",
       "      <td>Video Games</td>\n",
       "      <td>215755693.790</td>\n",
       "    </tr>\n",
       "    <tr>\n",
       "      <th>67</th>\n",
       "      <td>Hardware</td>\n",
       "      <td>154092422.680</td>\n",
       "    </tr>\n",
       "    <tr>\n",
       "      <th>39</th>\n",
       "      <td>Documentary</td>\n",
       "      <td>138760134.600</td>\n",
       "    </tr>\n",
       "  </tbody>\n",
       "</table>\n",
       "</div>"
      ],
      "text/plain": [
       "           category  total_pledge\n",
       "113  Product Design 628437968.480\n",
       "136  Tabletop Games 462584782.120\n",
       "148     Video Games 215755693.790\n",
       "67         Hardware 154092422.680\n",
       "39      Documentary 138760134.600"
      ]
     },
     "execution_count": 17,
     "metadata": {},
     "output_type": "execute_result"
    }
   ],
   "source": [
    "df.groupby('category', as_index=False).agg({'usd_pledged_real' : 'sum'}) \\\n",
    "                .rename(columns={'usd_pledged_real' : 'total_pledge'}) \\\n",
    "                .sort_values(by='total_pledge', ascending=False).head()"
   ]
  },
  {
   "cell_type": "markdown",
   "metadata": {},
   "source": [
    "------"
   ]
  },
  {
   "cell_type": "markdown",
   "metadata": {},
   "source": [
    "<div id='q1.7'> <h3> <a href=#Contents>Q1.7</a> </h3></div>\n",
    "\n",
    "\n",
    "As one can notice, there are both numerical and object-type data in our dataframe. \n",
    "We suggest you to split them to perform EDA separately. \n",
    "\n",
    "Split columns to 'numeric' (by data type) and object-type. How many 'object-type' features are there?"
   ]
  },
  {
   "cell_type": "code",
   "execution_count": 18,
   "metadata": {
    "ExecuteTime": {
     "end_time": "2020-10-02T17:57:37.687796Z",
     "start_time": "2020-10-02T17:57:37.678544Z"
    }
   },
   "outputs": [],
   "source": [
    "numeric_columns = [i for i in df.columns if df[i].dtype != object]\n",
    "object_columns = [i for i in df.columns if df[i].dtype == object]"
   ]
  },
  {
   "cell_type": "code",
   "execution_count": 19,
   "metadata": {},
   "outputs": [],
   "source": [
    "numeric_columns.remove('succeses')"
   ]
  },
  {
   "cell_type": "markdown",
   "metadata": {},
   "source": [
    "### Answer:"
   ]
  },
  {
   "cell_type": "code",
   "execution_count": 20,
   "metadata": {
    "ExecuteTime": {
     "end_time": "2020-10-02T17:57:37.705032Z",
     "start_time": "2020-10-02T17:57:37.694779Z"
    }
   },
   "outputs": [
    {
     "data": {
      "text/plain": [
       "7"
      ]
     },
     "execution_count": 20,
     "metadata": {},
     "output_type": "execute_result"
    }
   ],
   "source": [
    "len(object_columns)"
   ]
  },
  {
   "cell_type": "markdown",
   "metadata": {},
   "source": [
    "---"
   ]
  },
  {
   "cell_type": "markdown",
   "metadata": {},
   "source": [
    "<div id='q1.8'> <h3> <a href=#Contents>Q1.8</a> </h3></div>\n",
    "\n",
    "Let's do a bit of feature engineering. Let's create column `pledge2goal` which define as ratio of `usd_pledged_real` to `goal`. How many outliers are there?\n",
    "\n",
    "(We use a simple rule: an object is an outlier if it does not belong to [q25 - 1.5iqr, q75 + 1.5 iqr] interval, where qxx -- xx quantile, and iqr is inter-quantile range.)"
   ]
  },
  {
   "cell_type": "code",
   "execution_count": 21,
   "metadata": {
    "ExecuteTime": {
     "end_time": "2020-10-02T17:57:37.730777Z",
     "start_time": "2020-10-02T17:57:37.712777Z"
    }
   },
   "outputs": [],
   "source": [
    "df['plenged2goal'] = df['usd_pledged_real'] / df['goal']"
   ]
  },
  {
   "cell_type": "code",
   "execution_count": 22,
   "metadata": {
    "ExecuteTime": {
     "end_time": "2020-10-02T17:57:37.808395Z",
     "start_time": "2020-10-02T17:57:37.737557Z"
    }
   },
   "outputs": [],
   "source": [
    "q25, q75 = df['plenged2goal'].quantile(.25), df['plenged2goal'].quantile(.75)\n",
    "\n",
    "iqr = q75 - q25\n",
    "\n",
    "df_outliers = df[(df['plenged2goal'] < (q25 - 1.5 * iqr)) | (df['plenged2goal'] > (q75 + 1.5 * iqr))]"
   ]
  },
  {
   "cell_type": "code",
   "execution_count": 23,
   "metadata": {
    "ExecuteTime": {
     "end_time": "2020-10-02T17:57:38.507359Z",
     "start_time": "2020-10-02T17:57:37.810696Z"
    }
   },
   "outputs": [],
   "source": [
    "tmp_df = df.copy()\n",
    "df_wo_outliers = tmp_df.append(df_outliers).drop_duplicates(keep=False)"
   ]
  },
  {
   "cell_type": "markdown",
   "metadata": {},
   "source": [
    "### Answer:"
   ]
  },
  {
   "cell_type": "code",
   "execution_count": 24,
   "metadata": {
    "ExecuteTime": {
     "end_time": "2020-10-02T17:57:38.634669Z",
     "start_time": "2020-10-02T17:57:38.627372Z"
    },
    "scrolled": true
   },
   "outputs": [
    {
     "name": "stdout",
     "output_type": "stream",
     "text": [
      "Number of outliers:\n",
      " 18415\n"
     ]
    }
   ],
   "source": [
    "print('Number of outliers:\\n', df_outliers.shape[0])"
   ]
  },
  {
   "cell_type": "markdown",
   "metadata": {},
   "source": [
    "---"
   ]
  },
  {
   "cell_type": "markdown",
   "metadata": {},
   "source": [
    "<div id='q1.9'> <h3> <a href=#Contents>Q1.9</a> </h3></div>\n",
    "\n",
    "Visualize the feature for success and fail cases. What can you say about received distributions? (use bins=10 or 20). Type letter as your answer\n",
    "- A. Distributions intersect significantly, hard to say for sure that the ratio matters.\n",
    "- B. Distributions have almost no intersection, the bigger ratio, the bigger success.\n",
    "- C. Distributions have almost no intersection, the less ratio, the less success.\n",
    "- D. Distributions have almost no intersection, the less ratio, the bigger success."
   ]
  },
  {
   "cell_type": "code",
   "execution_count": 25,
   "metadata": {},
   "outputs": [],
   "source": [
    "df_failed = df[df['succeses'] == 0]\n",
    "df_sucess = df[df['succeses'] == 1]"
   ]
  },
  {
   "cell_type": "code",
   "execution_count": 26,
   "metadata": {},
   "outputs": [
    {
     "data": {
      "image/png": "[encoded data removed]",
      "text/plain": [
       "<Figure size 1008x432 with 2 Axes>"
      ]
     },
     "metadata": {
      "needs_background": "light"
     },
     "output_type": "display_data"
    }
   ],
   "source": [
    "plt.figure(figsize=(14, 6))\n",
    "plt.subplot(1, 2, 1)\n",
    "sns.distplot(np.log(df_sucess['plenged2goal'] + 1),\n",
    "             bins=20,\n",
    "             label='Succeses',\n",
    "            color='g')\n",
    "\n",
    "sns.distplot(np.log(df_failed['plenged2goal'] + 1),\n",
    "             label='Fail',\n",
    "             bins=20,\n",
    "            color='r')\n",
    "\n",
    "plt.title('Raw data (log scale)', fontsize=14)\n",
    "plt.xlabel('log(plenden2goal)')\n",
    "plt.legend()\n",
    "\n",
    "plt.subplot(1, 2, 2)\n",
    "sns.distplot(np.log(df_wo_outliers[df_wo_outliers.succeses == 1]['plenged2goal'] + 1),\n",
    "             bins=20,\n",
    "             label='Success',\n",
    "             color='g')\n",
    "sns.distplot(np.log(df_wo_outliers[df_wo_outliers.succeses == 0]['plenged2goal'] + 1),\n",
    "             bins=20,\n",
    "             label='Fail',\n",
    "             color='r')\n",
    "plt.xlabel('log(plenden2goal)')\n",
    "plt.title('Data w/o outliers', fontsize=14)\n",
    "plt.legend();"
   ]
  },
  {
   "cell_type": "markdown",
   "metadata": {},
   "source": [
    "### Answer:\n",
    "* B. Distributions have almost no intersection, the bigger ratio, the bigger success.\n",
    "* C. Distributions have almost no intersection, the less ratio, the less success."
   ]
  },
  {
   "cell_type": "markdown",
   "metadata": {},
   "source": [
    "-----"
   ]
  },
  {
   "cell_type": "markdown",
   "metadata": {},
   "source": [
    "<div id='q1.10'> <h3> <a href=#Contents>Q1.10</a> </h3></div>\n",
    "\n",
    "Continue with plot from Q1.9. Where are the peaks located? We expect two numbers here as the answer"
   ]
  },
  {
   "cell_type": "markdown",
   "metadata": {},
   "source": [
    "### Peack for success "
   ]
  },
  {
   "cell_type": "code",
   "execution_count": 27,
   "metadata": {
    "scrolled": false
   },
   "outputs": [
    {
     "data": {
      "text/plain": [
       "1.000    3260\n",
       "Name: plenged2goal, dtype: int64"
      ]
     },
     "execution_count": 27,
     "metadata": {},
     "output_type": "execute_result"
    }
   ],
   "source": [
    "df_wo_outliers[df_wo_outliers.succeses == 1]['plenged2goal']\\\n",
    "                                            .value_counts()\\\n",
    "                                            .sort_values(ascending=False).\\\n",
    "                                            head(1)"
   ]
  },
  {
   "cell_type": "markdown",
   "metadata": {},
   "source": [
    "### Peack for fail"
   ]
  },
  {
   "cell_type": "code",
   "execution_count": 28,
   "metadata": {},
   "outputs": [
    {
     "data": {
      "text/plain": [
       "0.000    50647\n",
       "Name: plenged2goal, dtype: int64"
      ]
     },
     "execution_count": 28,
     "metadata": {},
     "output_type": "execute_result"
    }
   ],
   "source": [
    "df_wo_outliers[df_wo_outliers.succeses == 0]['plenged2goal']\\\n",
    "                                            .value_counts()\\\n",
    "                                            .sort_values(ascending=False)\\\n",
    "                                            .head(1)"
   ]
  },
  {
   "cell_type": "markdown",
   "metadata": {},
   "source": [
    "-----"
   ]
  },
  {
   "cell_type": "markdown",
   "metadata": {},
   "source": [
    "<div id='q1.11'> <h3> <a href=#Contents>Q1.11</a> </h3></div>\n",
    "\n",
    "Compute Pearson correlation coefficiton between the pledge2real and target variable. (Round up to second digit after point)"
   ]
  },
  {
   "cell_type": "code",
   "execution_count": 29,
   "metadata": {
    "ExecuteTime": {
     "end_time": "2020-10-02T17:57:39.211453Z",
     "start_time": "2020-10-02T17:57:39.119416Z"
    },
    "scrolled": true
   },
   "outputs": [
    {
     "data": {
      "text/plain": [
       "0.9"
      ]
     },
     "execution_count": 29,
     "metadata": {},
     "output_type": "execute_result"
    }
   ],
   "source": [
    "round(df_wo_outliers.corrwith(df_wo_outliers.succeses, method='pearson').plenged2goal, 2)"
   ]
  },
  {
   "cell_type": "markdown",
   "metadata": {},
   "source": [
    "-----"
   ]
  },
  {
   "cell_type": "markdown",
   "metadata": {},
   "source": [
    "<div id='q1.12'> <h3> <a href=#Contents>Q1.12</a> </h3></div>\n",
    "\n",
    "Visualize dependancy of numerical data with success. What can you say about it?"
   ]
  },
  {
   "cell_type": "code",
   "execution_count": 30,
   "metadata": {},
   "outputs": [
    {
     "data": {
      "image/png": "[encoded data removed]",
      "text/plain": [
       "<Figure size 1152x576 with 6 Axes>"
      ]
     },
     "metadata": {
      "needs_background": "light"
     },
     "output_type": "display_data"
    }
   ],
   "source": [
    "plt.figure(figsize = (16, 8))\n",
    "for i in range(1, 7):\n",
    "    plt.subplot(2, 3, i, )\n",
    "    sns.distplot(np.log(df_sucess[numeric_columns[i- 1]] + 1),\n",
    "                 label='Succeses', hist=False,\n",
    "                 kde_kws={'shade': True, 'color' : 'g'})\n",
    "    sns.distplot(np.log(df_failed[numeric_columns[i- 1]] + 1),\n",
    "                 label='Fail', hist=False,\n",
    "                 kde_kws={'shade': True, 'color' : 'r'})\n",
    "    plt.legend()\n",
    "    "
   ]
  },
  {
   "cell_type": "markdown",
   "metadata": {},
   "source": [
    "---"
   ]
  },
  {
   "cell_type": "markdown",
   "metadata": {},
   "source": [
    "<div id=\"Section 2\"><h1><a href=#Contents>Section 2. Feature generation</a></h1></div>\n",
    "\n",
    "Lets' generate some more feature that could be useful"
   ]
  },
  {
   "cell_type": "markdown",
   "metadata": {},
   "source": [
    "<div id='q2.1'> <h3> <a href=#Contents>Q2.1</a> </h3></div>\n",
    "\n",
    "Create a year column that would hold the year. How many projects were in year 2012?"
   ]
  },
  {
   "cell_type": "code",
   "execution_count": 31,
   "metadata": {},
   "outputs": [],
   "source": [
    "df['launched'] = pd.to_datetime(df['launched'])\n",
    "\n",
    "\n",
    "df['year'] = df.launched.dt.year"
   ]
  },
  {
   "cell_type": "code",
   "execution_count": 32,
   "metadata": {
    "scrolled": true
   },
   "outputs": [
    {
     "data": {
      "text/html": [
       "<div>\n",
       "<style scoped>\n",
       "    .dataframe tbody tr th:only-of-type {\n",
       "        vertical-align: middle;\n",
       "    }\n",
       "\n",
       "    .dataframe tbody tr th {\n",
       "        vertical-align: top;\n",
       "    }\n",
       "\n",
       "    .dataframe thead th {\n",
       "        text-align: right;\n",
       "    }\n",
       "</style>\n",
       "<table border=\"1\" class=\"dataframe\">\n",
       "  <thead>\n",
       "    <tr style=\"text-align: right;\">\n",
       "      <th></th>\n",
       "      <th>name</th>\n",
       "      <th>category</th>\n",
       "      <th>main_category</th>\n",
       "      <th>currency</th>\n",
       "      <th>deadline</th>\n",
       "      <th>goal</th>\n",
       "      <th>launched</th>\n",
       "      <th>pledged</th>\n",
       "      <th>succeses</th>\n",
       "      <th>backers</th>\n",
       "      <th>country</th>\n",
       "      <th>usd pledged</th>\n",
       "      <th>usd_pledged_real</th>\n",
       "      <th>usd_goal_real</th>\n",
       "      <th>plenged2goal</th>\n",
       "      <th>year</th>\n",
       "    </tr>\n",
       "    <tr>\n",
       "      <th>ID</th>\n",
       "      <th></th>\n",
       "      <th></th>\n",
       "      <th></th>\n",
       "      <th></th>\n",
       "      <th></th>\n",
       "      <th></th>\n",
       "      <th></th>\n",
       "      <th></th>\n",
       "      <th></th>\n",
       "      <th></th>\n",
       "      <th></th>\n",
       "      <th></th>\n",
       "      <th></th>\n",
       "      <th></th>\n",
       "      <th></th>\n",
       "      <th></th>\n",
       "    </tr>\n",
       "  </thead>\n",
       "  <tbody>\n",
       "    <tr>\n",
       "      <th>1000002330</th>\n",
       "      <td>The Songs of Adelaide &amp; Abullah</td>\n",
       "      <td>Poetry</td>\n",
       "      <td>Publishing</td>\n",
       "      <td>GBP</td>\n",
       "      <td>2015-10-09</td>\n",
       "      <td>1000.000</td>\n",
       "      <td>2015-08-11 12:12:28</td>\n",
       "      <td>0.000</td>\n",
       "      <td>0</td>\n",
       "      <td>0</td>\n",
       "      <td>GB</td>\n",
       "      <td>0.000</td>\n",
       "      <td>0.000</td>\n",
       "      <td>1533.950</td>\n",
       "      <td>0.000</td>\n",
       "      <td>2015</td>\n",
       "    </tr>\n",
       "    <tr>\n",
       "      <th>1000003930</th>\n",
       "      <td>Greeting From Earth: ZGAC Arts Capsule For ET</td>\n",
       "      <td>Narrative Film</td>\n",
       "      <td>Film &amp; Video</td>\n",
       "      <td>USD</td>\n",
       "      <td>2017-11-01</td>\n",
       "      <td>30000.000</td>\n",
       "      <td>2017-09-02 04:43:57</td>\n",
       "      <td>2421.000</td>\n",
       "      <td>0</td>\n",
       "      <td>15</td>\n",
       "      <td>US</td>\n",
       "      <td>100.000</td>\n",
       "      <td>2421.000</td>\n",
       "      <td>30000.000</td>\n",
       "      <td>0.081</td>\n",
       "      <td>2017</td>\n",
       "    </tr>\n",
       "  </tbody>\n",
       "</table>\n",
       "</div>"
      ],
      "text/plain": [
       "                                                     name        category  \\\n",
       "ID                                                                          \n",
       "1000002330                The Songs of Adelaide & Abullah          Poetry   \n",
       "1000003930  Greeting From Earth: ZGAC Arts Capsule For ET  Narrative Film   \n",
       "\n",
       "           main_category currency    deadline      goal            launched  \\\n",
       "ID                                                                            \n",
       "1000002330    Publishing      GBP  2015-10-09  1000.000 2015-08-11 12:12:28   \n",
       "1000003930  Film & Video      USD  2017-11-01 30000.000 2017-09-02 04:43:57   \n",
       "\n",
       "            pledged  succeses  backers country  usd pledged  usd_pledged_real  \\\n",
       "ID                                                                              \n",
       "1000002330    0.000         0        0      GB        0.000             0.000   \n",
       "1000003930 2421.000         0       15      US      100.000          2421.000   \n",
       "\n",
       "            usd_goal_real  plenged2goal  year  \n",
       "ID                                             \n",
       "1000002330       1533.950         0.000  2015  \n",
       "1000003930      30000.000         0.081  2017  "
      ]
     },
     "execution_count": 32,
     "metadata": {},
     "output_type": "execute_result"
    }
   ],
   "source": [
    "df.head(2)"
   ]
  },
  {
   "cell_type": "markdown",
   "metadata": {},
   "source": [
    "### Answer:"
   ]
  },
  {
   "cell_type": "code",
   "execution_count": 33,
   "metadata": {
    "scrolled": true
   },
   "outputs": [
    {
     "name": "stdout",
     "output_type": "stream",
     "text": [
      "Number of projects launched in 2012:\n",
      " 41109\n"
     ]
    }
   ],
   "source": [
    "print('Number of projects launched in 2012:\\n', df[df['year'] == 2012].shape[0])"
   ]
  },
  {
   "cell_type": "markdown",
   "metadata": {},
   "source": [
    "---"
   ]
  },
  {
   "cell_type": "markdown",
   "metadata": {},
   "source": [
    "<div id='q2.2'> <h3> <a href=#Contents>Q2.2</a> </h3></div>\n",
    "\n",
    "Make a column 'duration_days' with number of full days from launch to deadline.\n",
    "What is median value for this column?"
   ]
  },
  {
   "cell_type": "code",
   "execution_count": 34,
   "metadata": {},
   "outputs": [],
   "source": [
    "df['deadline'] = pd.to_datetime(df['deadline'])\n",
    "\n",
    "df['duration_days'] = df['deadline'] - df['launched']\n",
    "\n",
    "df['duration_days'] = df['duration_days'].dt.days"
   ]
  },
  {
   "cell_type": "code",
   "execution_count": 35,
   "metadata": {
    "scrolled": true
   },
   "outputs": [
    {
     "data": {
      "text/html": [
       "<div>\n",
       "<style scoped>\n",
       "    .dataframe tbody tr th:only-of-type {\n",
       "        vertical-align: middle;\n",
       "    }\n",
       "\n",
       "    .dataframe tbody tr th {\n",
       "        vertical-align: top;\n",
       "    }\n",
       "\n",
       "    .dataframe thead th {\n",
       "        text-align: right;\n",
       "    }\n",
       "</style>\n",
       "<table border=\"1\" class=\"dataframe\">\n",
       "  <thead>\n",
       "    <tr style=\"text-align: right;\">\n",
       "      <th></th>\n",
       "      <th>name</th>\n",
       "      <th>category</th>\n",
       "      <th>main_category</th>\n",
       "      <th>currency</th>\n",
       "      <th>deadline</th>\n",
       "      <th>goal</th>\n",
       "      <th>launched</th>\n",
       "      <th>pledged</th>\n",
       "      <th>succeses</th>\n",
       "      <th>backers</th>\n",
       "      <th>country</th>\n",
       "      <th>usd pledged</th>\n",
       "      <th>usd_pledged_real</th>\n",
       "      <th>usd_goal_real</th>\n",
       "      <th>plenged2goal</th>\n",
       "      <th>year</th>\n",
       "      <th>duration_days</th>\n",
       "    </tr>\n",
       "    <tr>\n",
       "      <th>ID</th>\n",
       "      <th></th>\n",
       "      <th></th>\n",
       "      <th></th>\n",
       "      <th></th>\n",
       "      <th></th>\n",
       "      <th></th>\n",
       "      <th></th>\n",
       "      <th></th>\n",
       "      <th></th>\n",
       "      <th></th>\n",
       "      <th></th>\n",
       "      <th></th>\n",
       "      <th></th>\n",
       "      <th></th>\n",
       "      <th></th>\n",
       "      <th></th>\n",
       "      <th></th>\n",
       "    </tr>\n",
       "  </thead>\n",
       "  <tbody>\n",
       "    <tr>\n",
       "      <th>1000002330</th>\n",
       "      <td>The Songs of Adelaide &amp; Abullah</td>\n",
       "      <td>Poetry</td>\n",
       "      <td>Publishing</td>\n",
       "      <td>GBP</td>\n",
       "      <td>2015-10-09</td>\n",
       "      <td>1000.000</td>\n",
       "      <td>2015-08-11 12:12:28</td>\n",
       "      <td>0.000</td>\n",
       "      <td>0</td>\n",
       "      <td>0</td>\n",
       "      <td>GB</td>\n",
       "      <td>0.000</td>\n",
       "      <td>0.000</td>\n",
       "      <td>1533.950</td>\n",
       "      <td>0.000</td>\n",
       "      <td>2015</td>\n",
       "      <td>58</td>\n",
       "    </tr>\n",
       "    <tr>\n",
       "      <th>1000003930</th>\n",
       "      <td>Greeting From Earth: ZGAC Arts Capsule For ET</td>\n",
       "      <td>Narrative Film</td>\n",
       "      <td>Film &amp; Video</td>\n",
       "      <td>USD</td>\n",
       "      <td>2017-11-01</td>\n",
       "      <td>30000.000</td>\n",
       "      <td>2017-09-02 04:43:57</td>\n",
       "      <td>2421.000</td>\n",
       "      <td>0</td>\n",
       "      <td>15</td>\n",
       "      <td>US</td>\n",
       "      <td>100.000</td>\n",
       "      <td>2421.000</td>\n",
       "      <td>30000.000</td>\n",
       "      <td>0.081</td>\n",
       "      <td>2017</td>\n",
       "      <td>59</td>\n",
       "    </tr>\n",
       "  </tbody>\n",
       "</table>\n",
       "</div>"
      ],
      "text/plain": [
       "                                                     name        category  \\\n",
       "ID                                                                          \n",
       "1000002330                The Songs of Adelaide & Abullah          Poetry   \n",
       "1000003930  Greeting From Earth: ZGAC Arts Capsule For ET  Narrative Film   \n",
       "\n",
       "           main_category currency   deadline      goal            launched  \\\n",
       "ID                                                                           \n",
       "1000002330    Publishing      GBP 2015-10-09  1000.000 2015-08-11 12:12:28   \n",
       "1000003930  Film & Video      USD 2017-11-01 30000.000 2017-09-02 04:43:57   \n",
       "\n",
       "            pledged  succeses  backers country  usd pledged  usd_pledged_real  \\\n",
       "ID                                                                              \n",
       "1000002330    0.000         0        0      GB        0.000             0.000   \n",
       "1000003930 2421.000         0       15      US      100.000          2421.000   \n",
       "\n",
       "            usd_goal_real  plenged2goal  year  duration_days  \n",
       "ID                                                            \n",
       "1000002330       1533.950         0.000  2015             58  \n",
       "1000003930      30000.000         0.081  2017             59  "
      ]
     },
     "execution_count": 35,
     "metadata": {},
     "output_type": "execute_result"
    }
   ],
   "source": [
    "df.head(2)"
   ]
  },
  {
   "cell_type": "markdown",
   "metadata": {},
   "source": [
    "### Answer:"
   ]
  },
  {
   "cell_type": "code",
   "execution_count": 36,
   "metadata": {},
   "outputs": [
    {
     "data": {
      "text/plain": [
       "29.0"
      ]
     },
     "execution_count": 36,
     "metadata": {},
     "output_type": "execute_result"
    }
   ],
   "source": [
    "df.duration_days.median()"
   ]
  },
  {
   "cell_type": "markdown",
   "metadata": {},
   "source": [
    "---"
   ]
  },
  {
   "cell_type": "markdown",
   "metadata": {},
   "source": [
    "<div id='q2.3'> <h3> <a href=#Contents>Q2.3</a> </h3></div>\n",
    "\n",
    "Delete mistaken value from column `country`. What is the value?"
   ]
  },
  {
   "cell_type": "code",
   "execution_count": 37,
   "metadata": {
    "scrolled": false
   },
   "outputs": [
    {
     "data": {
      "text/plain": [
       "HK    564\n",
       "SG    521\n",
       "LU     61\n",
       "JP     31\n",
       "Name: country, dtype: int64"
      ]
     },
     "execution_count": 37,
     "metadata": {},
     "output_type": "execute_result"
    }
   ],
   "source": [
    "df.country.value_counts()[-4:]"
   ]
  },
  {
   "cell_type": "code",
   "execution_count": 38,
   "metadata": {},
   "outputs": [],
   "source": [
    "df = df[df['country'] != 'N,0\"']"
   ]
  },
  {
   "cell_type": "code",
   "execution_count": 39,
   "metadata": {},
   "outputs": [
    {
     "data": {
      "image/png": "[encoded data removed]",
      "text/plain": [
       "<Figure size 864x432 with 1 Axes>"
      ]
     },
     "metadata": {
      "needs_background": "light"
     },
     "output_type": "display_data"
    }
   ],
   "source": [
    "df['country'].value_counts()[:10].plot(kind='barh', \n",
    "                                  figsize=(12,6),\n",
    "                                  title='Top 10 countries',\n",
    "                                  color=['r', 'b', 'g', 'y'],\n",
    "                                  alpha=.4);"
   ]
  },
  {
   "cell_type": "markdown",
   "metadata": {},
   "source": [
    "### Answer:\n",
    "`N,0\"` - mistaken value from `country` column"
   ]
  },
  {
   "cell_type": "markdown",
   "metadata": {},
   "source": [
    "----"
   ]
  },
  {
   "cell_type": "markdown",
   "metadata": {},
   "source": [
    "<div id='q2.4'> <h3> <a href=#Contents>Q2.4</a> </h3></div>\n",
    "\n",
    "Make column `region` out of column `country` (america, europe, asia, oceania(including australiza/nz))\n",
    "Where is the region with the worst conversion rate (percentage of successful projects)"
   ]
  },
  {
   "cell_type": "code",
   "execution_count": 40,
   "metadata": {},
   "outputs": [],
   "source": [
    "def get_region(country):\n",
    "    '''\n",
    "    This function takes coiuntry code in ISO 3166_2 format and returns its region.\n",
    "\n",
    "    Example:\n",
    "    get_region('US')\n",
    "    >>> America\n",
    "    get_region('JP')\n",
    "    >>> Asia\n",
    "    '''    \n",
    "    region_by_country = {'America': ['US', 'CA', 'MX'],\n",
    "    'Europe' : ['GB', 'DE', 'FR', 'NL', 'IT', 'ES', 'SE', 'DK', 'IE', 'CH', 'NO', 'BE', 'AT', 'LU'],\n",
    "    'Asia' :['HK', 'SG', 'JP'],\n",
    "    'Oceania' : ['AU', 'NZ']} \n",
    "    \n",
    "    for region, country_list in region_by_country.items():\n",
    "        if country in country_list:\n",
    "            return region"
   ]
  },
  {
   "cell_type": "code",
   "execution_count": 41,
   "metadata": {},
   "outputs": [],
   "source": [
    "df['region'] = df['country'].apply(get_region)"
   ]
  },
  {
   "cell_type": "code",
   "execution_count": 42,
   "metadata": {
    "scrolled": true
   },
   "outputs": [
    {
     "data": {
      "text/html": [
       "<div>\n",
       "<style scoped>\n",
       "    .dataframe tbody tr th:only-of-type {\n",
       "        vertical-align: middle;\n",
       "    }\n",
       "\n",
       "    .dataframe tbody tr th {\n",
       "        vertical-align: top;\n",
       "    }\n",
       "\n",
       "    .dataframe thead th {\n",
       "        text-align: right;\n",
       "    }\n",
       "</style>\n",
       "<table border=\"1\" class=\"dataframe\">\n",
       "  <thead>\n",
       "    <tr style=\"text-align: right;\">\n",
       "      <th></th>\n",
       "      <th>region</th>\n",
       "      <th>success_rate</th>\n",
       "    </tr>\n",
       "  </thead>\n",
       "  <tbody>\n",
       "    <tr>\n",
       "      <th>0</th>\n",
       "      <td>America</td>\n",
       "      <td>0.372</td>\n",
       "    </tr>\n",
       "    <tr>\n",
       "      <th>1</th>\n",
       "      <td>Asia</td>\n",
       "      <td>0.359</td>\n",
       "    </tr>\n",
       "    <tr>\n",
       "      <th>2</th>\n",
       "      <td>Europe</td>\n",
       "      <td>0.317</td>\n",
       "    </tr>\n",
       "    <tr>\n",
       "      <th>3</th>\n",
       "      <td>Oceania</td>\n",
       "      <td>0.270</td>\n",
       "    </tr>\n",
       "  </tbody>\n",
       "</table>\n",
       "</div>"
      ],
      "text/plain": [
       "    region  success_rate\n",
       "0  America         0.372\n",
       "1     Asia         0.359\n",
       "2   Europe         0.317\n",
       "3  Oceania         0.270"
      ]
     },
     "execution_count": 42,
     "metadata": {},
     "output_type": "execute_result"
    }
   ],
   "source": [
    "df.groupby('region', as_index=False)['succeses'].mean()\\\n",
    "                    .sort_values(by='succeses', ascending=False)\\\n",
    "                    .rename(columns = {'succeses' : 'success_rate'})"
   ]
  },
  {
   "cell_type": "code",
   "execution_count": 43,
   "metadata": {},
   "outputs": [
    {
     "data": {
      "image/png": "[encoded data removed]",
      "text/plain": [
       "<Figure size 864x432 with 1 Axes>"
      ]
     },
     "metadata": {
      "needs_background": "light"
     },
     "output_type": "display_data"
    }
   ],
   "source": [
    "df.groupby('region')['succeses'].mean().plot(kind='barh',\n",
    "                                  figsize=(12,6),\n",
    "                                  title='Sucess rate by region',\n",
    "                                  color=['r', 'b', 'g', 'y'],\n",
    "                                             alpha=.4);"
   ]
  },
  {
   "cell_type": "markdown",
   "metadata": {},
   "source": [
    "### Answer:\n",
    "Region with the lowest sucesses rate - `Oceania`"
   ]
  },
  {
   "cell_type": "markdown",
   "metadata": {},
   "source": [
    "----"
   ]
  },
  {
   "cell_type": "code",
   "execution_count": 44,
   "metadata": {},
   "outputs": [],
   "source": [
    "df_xgb = df.copy()"
   ]
  },
  {
   "cell_type": "markdown",
   "metadata": {},
   "source": [
    "<div id='q2.5'> <h3> <a href=#Contents>Q2.5</a> </h3></div>\n",
    "\n",
    "What is the most frequent subcategory for design?"
   ]
  },
  {
   "cell_type": "code",
   "execution_count": 45,
   "metadata": {},
   "outputs": [],
   "source": [
    "df_gp = df.groupby(['main_category', 'category'], as_index=False)['goal'].count()\n",
    "\n",
    "df_gp = df_gp.reset_index() \\\n",
    "        .sort_values(['main_category','goal'], ascending=False)\\\n",
    "        .drop('index', axis=1) \\\n",
    "        .rename(columns = {'goal' : 'number_of_projects'})"
   ]
  },
  {
   "cell_type": "code",
   "execution_count": 46,
   "metadata": {},
   "outputs": [
    {
     "data": {
      "text/html": [
       "<div>\n",
       "<style scoped>\n",
       "    .dataframe tbody tr th:only-of-type {\n",
       "        vertical-align: middle;\n",
       "    }\n",
       "\n",
       "    .dataframe tbody tr th {\n",
       "        vertical-align: top;\n",
       "    }\n",
       "\n",
       "    .dataframe thead th {\n",
       "        text-align: right;\n",
       "    }\n",
       "</style>\n",
       "<table border=\"1\" class=\"dataframe\">\n",
       "  <thead>\n",
       "    <tr style=\"text-align: right;\">\n",
       "      <th></th>\n",
       "      <th>main_category</th>\n",
       "      <th>category</th>\n",
       "      <th>number_of_projects</th>\n",
       "    </tr>\n",
       "  </thead>\n",
       "  <tbody>\n",
       "    <tr>\n",
       "      <th>169</th>\n",
       "      <td>Theater</td>\n",
       "      <td>Theater</td>\n",
       "      <td>7036</td>\n",
       "    </tr>\n",
       "    <tr>\n",
       "      <th>167</th>\n",
       "      <td>Theater</td>\n",
       "      <td>Plays</td>\n",
       "      <td>1363</td>\n",
       "    </tr>\n",
       "    <tr>\n",
       "      <th>166</th>\n",
       "      <td>Theater</td>\n",
       "      <td>Musical</td>\n",
       "      <td>906</td>\n",
       "    </tr>\n",
       "    <tr>\n",
       "      <th>164</th>\n",
       "      <td>Theater</td>\n",
       "      <td>Festivals</td>\n",
       "      <td>546</td>\n",
       "    </tr>\n",
       "  </tbody>\n",
       "</table>\n",
       "</div>"
      ],
      "text/plain": [
       "    main_category   category  number_of_projects\n",
       "169       Theater    Theater                7036\n",
       "167       Theater      Plays                1363\n",
       "166       Theater    Musical                 906\n",
       "164       Theater  Festivals                 546"
      ]
     },
     "execution_count": 46,
     "metadata": {},
     "output_type": "execute_result"
    }
   ],
   "source": [
    "df_gp.head(4)"
   ]
  },
  {
   "cell_type": "markdown",
   "metadata": {},
   "source": [
    "Replacing not top3 sub catgories in `df` with `other`"
   ]
  },
  {
   "cell_type": "code",
   "execution_count": 47,
   "metadata": {},
   "outputs": [],
   "source": [
    "main_categories_list = list(set(df_gp.main_category.values))\n",
    "\n",
    "other_sub_categories = [] #list to contain sub categories not in top3\n",
    "for main_category in main_categories_list:\n",
    "    other_sub_categories += list(df_gp[df_gp['main_category'] == main_category]['category'][3:])\n",
    "\n",
    "df['category'] = df['category'].replace(other_sub_categories,'other')"
   ]
  },
  {
   "cell_type": "code",
   "execution_count": 48,
   "metadata": {},
   "outputs": [
    {
     "data": {
      "text/html": [
       "<div>\n",
       "<style scoped>\n",
       "    .dataframe tbody tr th:only-of-type {\n",
       "        vertical-align: middle;\n",
       "    }\n",
       "\n",
       "    .dataframe tbody tr th {\n",
       "        vertical-align: top;\n",
       "    }\n",
       "\n",
       "    .dataframe thead th {\n",
       "        text-align: right;\n",
       "    }\n",
       "</style>\n",
       "<table border=\"1\" class=\"dataframe\">\n",
       "  <thead>\n",
       "    <tr style=\"text-align: right;\">\n",
       "      <th></th>\n",
       "      <th>category</th>\n",
       "      <th>number_of_project</th>\n",
       "    </tr>\n",
       "  </thead>\n",
       "  <tbody>\n",
       "    <tr>\n",
       "      <th>2</th>\n",
       "      <td>Product Design</td>\n",
       "      <td>21886</td>\n",
       "    </tr>\n",
       "    <tr>\n",
       "      <th>0</th>\n",
       "      <td>Design</td>\n",
       "      <td>4122</td>\n",
       "    </tr>\n",
       "    <tr>\n",
       "      <th>1</th>\n",
       "      <td>Graphic Design</td>\n",
       "      <td>1990</td>\n",
       "    </tr>\n",
       "    <tr>\n",
       "      <th>3</th>\n",
       "      <td>other</td>\n",
       "      <td>1517</td>\n",
       "    </tr>\n",
       "  </tbody>\n",
       "</table>\n",
       "</div>"
      ],
      "text/plain": [
       "         category  number_of_project\n",
       "2  Product Design              21886\n",
       "0          Design               4122\n",
       "1  Graphic Design               1990\n",
       "3           other               1517"
      ]
     },
     "execution_count": 48,
     "metadata": {},
     "output_type": "execute_result"
    }
   ],
   "source": [
    "df[df.main_category == 'Design']\\\n",
    "                .groupby('category', as_index=False)['goal']\\\n",
    "                .count()\\\n",
    "                .sort_values(by='goal', ascending=False)\\\n",
    "                .rename(columns={'goal': 'number_of_project'})"
   ]
  },
  {
   "cell_type": "markdown",
   "metadata": {},
   "source": [
    "### Answer:\n",
    "Most popular subcategory for `Design` is `Product Design`"
   ]
  },
  {
   "cell_type": "markdown",
   "metadata": {},
   "source": [
    "-----"
   ]
  },
  {
   "cell_type": "markdown",
   "metadata": {},
   "source": [
    "<div id='q2.6'> <h3> <a href=#Contents>Q2.6</a> </h3></div>\n",
    "\n",
    "Create the column `name_length` with length of the name.\n",
    "What is the biggets length?"
   ]
  },
  {
   "cell_type": "code",
   "execution_count": 49,
   "metadata": {},
   "outputs": [
    {
     "data": {
      "text/plain": [
       "96"
      ]
     },
     "execution_count": 49,
     "metadata": {},
     "output_type": "execute_result"
    }
   ],
   "source": [
    "df['name_length'] = df['name'].str.len()\n",
    "\n",
    "df['name_length'].max()"
   ]
  },
  {
   "cell_type": "markdown",
   "metadata": {},
   "source": [
    "### Answer:\n",
    "Biggest lengh:\n",
    "`96`"
   ]
  },
  {
   "cell_type": "markdown",
   "metadata": {},
   "source": [
    "----"
   ]
  },
  {
   "cell_type": "markdown",
   "metadata": {},
   "source": [
    "<div id=\"Section 3\"></div> <h1><a href=#Contents>Section 3. Preprocessing</a> </h1>"
   ]
  },
  {
   "cell_type": "markdown",
   "metadata": {},
   "source": [
    "<div id='q3.1'> <h3> <a href=#Contents>Q3.1 Drop the leaking columns</a> </h3></div>\n",
    "\n",
    "Based on what we have already seen, can you assume what features are leakeges? What is the columns? Drop them\n"
   ]
  },
  {
   "cell_type": "code",
   "execution_count": 50,
   "metadata": {},
   "outputs": [],
   "source": [
    "leakage_columns = ['pledged', 'backers', 'usd pledged', 'usd_pledged_real', 'plenged2goal']\n",
    "\n",
    "df = df.drop(leakage_columns, axis=1)"
   ]
  },
  {
   "cell_type": "code",
   "execution_count": 51,
   "metadata": {
    "scrolled": true
   },
   "outputs": [
    {
     "data": {
      "text/html": [
       "<div>\n",
       "<style scoped>\n",
       "    .dataframe tbody tr th:only-of-type {\n",
       "        vertical-align: middle;\n",
       "    }\n",
       "\n",
       "    .dataframe tbody tr th {\n",
       "        vertical-align: top;\n",
       "    }\n",
       "\n",
       "    .dataframe thead th {\n",
       "        text-align: right;\n",
       "    }\n",
       "</style>\n",
       "<table border=\"1\" class=\"dataframe\">\n",
       "  <thead>\n",
       "    <tr style=\"text-align: right;\">\n",
       "      <th></th>\n",
       "      <th>name</th>\n",
       "      <th>category</th>\n",
       "      <th>main_category</th>\n",
       "      <th>currency</th>\n",
       "      <th>deadline</th>\n",
       "      <th>goal</th>\n",
       "      <th>launched</th>\n",
       "      <th>succeses</th>\n",
       "      <th>country</th>\n",
       "      <th>usd_goal_real</th>\n",
       "      <th>year</th>\n",
       "      <th>duration_days</th>\n",
       "      <th>region</th>\n",
       "      <th>name_length</th>\n",
       "    </tr>\n",
       "    <tr>\n",
       "      <th>ID</th>\n",
       "      <th></th>\n",
       "      <th></th>\n",
       "      <th></th>\n",
       "      <th></th>\n",
       "      <th></th>\n",
       "      <th></th>\n",
       "      <th></th>\n",
       "      <th></th>\n",
       "      <th></th>\n",
       "      <th></th>\n",
       "      <th></th>\n",
       "      <th></th>\n",
       "      <th></th>\n",
       "      <th></th>\n",
       "    </tr>\n",
       "  </thead>\n",
       "  <tbody>\n",
       "    <tr>\n",
       "      <th>1000002330</th>\n",
       "      <td>The Songs of Adelaide &amp; Abullah</td>\n",
       "      <td>other</td>\n",
       "      <td>Publishing</td>\n",
       "      <td>GBP</td>\n",
       "      <td>2015-10-09</td>\n",
       "      <td>1000.000</td>\n",
       "      <td>2015-08-11 12:12:28</td>\n",
       "      <td>0</td>\n",
       "      <td>GB</td>\n",
       "      <td>1533.950</td>\n",
       "      <td>2015</td>\n",
       "      <td>58</td>\n",
       "      <td>Europe</td>\n",
       "      <td>31</td>\n",
       "    </tr>\n",
       "    <tr>\n",
       "      <th>1000003930</th>\n",
       "      <td>Greeting From Earth: ZGAC Arts Capsule For ET</td>\n",
       "      <td>other</td>\n",
       "      <td>Film &amp; Video</td>\n",
       "      <td>USD</td>\n",
       "      <td>2017-11-01</td>\n",
       "      <td>30000.000</td>\n",
       "      <td>2017-09-02 04:43:57</td>\n",
       "      <td>0</td>\n",
       "      <td>US</td>\n",
       "      <td>30000.000</td>\n",
       "      <td>2017</td>\n",
       "      <td>59</td>\n",
       "      <td>America</td>\n",
       "      <td>45</td>\n",
       "    </tr>\n",
       "  </tbody>\n",
       "</table>\n",
       "</div>"
      ],
      "text/plain": [
       "                                                     name category  \\\n",
       "ID                                                                   \n",
       "1000002330                The Songs of Adelaide & Abullah    other   \n",
       "1000003930  Greeting From Earth: ZGAC Arts Capsule For ET    other   \n",
       "\n",
       "           main_category currency   deadline      goal            launched  \\\n",
       "ID                                                                           \n",
       "1000002330    Publishing      GBP 2015-10-09  1000.000 2015-08-11 12:12:28   \n",
       "1000003930  Film & Video      USD 2017-11-01 30000.000 2017-09-02 04:43:57   \n",
       "\n",
       "            succeses country  usd_goal_real  year  duration_days   region  \\\n",
       "ID                                                                          \n",
       "1000002330         0      GB       1533.950  2015             58   Europe   \n",
       "1000003930         0      US      30000.000  2017             59  America   \n",
       "\n",
       "            name_length  \n",
       "ID                       \n",
       "1000002330           31  \n",
       "1000003930           45  "
      ]
     },
     "execution_count": 51,
     "metadata": {},
     "output_type": "execute_result"
    }
   ],
   "source": [
    "df.head(2)"
   ]
  },
  {
   "cell_type": "markdown",
   "metadata": {},
   "source": [
    "### Answer:\n",
    "By definition leakage columns contains information highly correlated with the target variable, and make the predictive model more accurate than it should be. Since we trying to guess does the project succeeds or not information about pledged money and the number of backers should not be available for the model training.\n"
   ]
  },
  {
   "cell_type": "code",
   "execution_count": 52,
   "metadata": {},
   "outputs": [
    {
     "name": "stdout",
     "output_type": "stream",
     "text": [
      "['pledged', 'backers', 'usd pledged', 'usd_pledged_real', 'plenged2goal']\n"
     ]
    }
   ],
   "source": [
    "print(leakage_columns)"
   ]
  },
  {
   "cell_type": "markdown",
   "metadata": {},
   "source": [
    "---"
   ]
  },
  {
   "cell_type": "markdown",
   "metadata": {},
   "source": [
    "<div id='q3.2'> <h3> <a href=#Contents>Q3.2 Deal with the categorical features.</a> </h3></div>\n",
    "\n",
    "\n",
    "Lets drop some more columns for now (`name`, `deadline`, `launched`, `country`, `usd_goal_real`). Note: you can re-use these columns in the Q5 section. \n",
    "Preprocess the rest of categorical columns. How many columns do you have now?"
   ]
  },
  {
   "cell_type": "code",
   "execution_count": 53,
   "metadata": {},
   "outputs": [],
   "source": [
    "df = df.drop(['name', 'deadline', 'launched', 'country', 'usd_goal_real'], axis=1)"
   ]
  },
  {
   "cell_type": "code",
   "execution_count": 54,
   "metadata": {
    "scrolled": true
   },
   "outputs": [
    {
     "data": {
      "text/html": [
       "<div>\n",
       "<style scoped>\n",
       "    .dataframe tbody tr th:only-of-type {\n",
       "        vertical-align: middle;\n",
       "    }\n",
       "\n",
       "    .dataframe tbody tr th {\n",
       "        vertical-align: top;\n",
       "    }\n",
       "\n",
       "    .dataframe thead th {\n",
       "        text-align: right;\n",
       "    }\n",
       "</style>\n",
       "<table border=\"1\" class=\"dataframe\">\n",
       "  <thead>\n",
       "    <tr style=\"text-align: right;\">\n",
       "      <th></th>\n",
       "      <th>category</th>\n",
       "      <th>main_category</th>\n",
       "      <th>currency</th>\n",
       "      <th>goal</th>\n",
       "      <th>succeses</th>\n",
       "      <th>year</th>\n",
       "      <th>duration_days</th>\n",
       "      <th>region</th>\n",
       "      <th>name_length</th>\n",
       "    </tr>\n",
       "    <tr>\n",
       "      <th>ID</th>\n",
       "      <th></th>\n",
       "      <th></th>\n",
       "      <th></th>\n",
       "      <th></th>\n",
       "      <th></th>\n",
       "      <th></th>\n",
       "      <th></th>\n",
       "      <th></th>\n",
       "      <th></th>\n",
       "    </tr>\n",
       "  </thead>\n",
       "  <tbody>\n",
       "    <tr>\n",
       "      <th>1000002330</th>\n",
       "      <td>other</td>\n",
       "      <td>Publishing</td>\n",
       "      <td>GBP</td>\n",
       "      <td>1000.000</td>\n",
       "      <td>0</td>\n",
       "      <td>2015</td>\n",
       "      <td>58</td>\n",
       "      <td>Europe</td>\n",
       "      <td>31</td>\n",
       "    </tr>\n",
       "    <tr>\n",
       "      <th>1000003930</th>\n",
       "      <td>other</td>\n",
       "      <td>Film &amp; Video</td>\n",
       "      <td>USD</td>\n",
       "      <td>30000.000</td>\n",
       "      <td>0</td>\n",
       "      <td>2017</td>\n",
       "      <td>59</td>\n",
       "      <td>America</td>\n",
       "      <td>45</td>\n",
       "    </tr>\n",
       "    <tr>\n",
       "      <th>1000004038</th>\n",
       "      <td>other</td>\n",
       "      <td>Film &amp; Video</td>\n",
       "      <td>USD</td>\n",
       "      <td>45000.000</td>\n",
       "      <td>0</td>\n",
       "      <td>2013</td>\n",
       "      <td>44</td>\n",
       "      <td>America</td>\n",
       "      <td>14</td>\n",
       "    </tr>\n",
       "  </tbody>\n",
       "</table>\n",
       "</div>"
      ],
      "text/plain": [
       "           category main_category currency      goal  succeses  year  \\\n",
       "ID                                                                     \n",
       "1000002330    other    Publishing      GBP  1000.000         0  2015   \n",
       "1000003930    other  Film & Video      USD 30000.000         0  2017   \n",
       "1000004038    other  Film & Video      USD 45000.000         0  2013   \n",
       "\n",
       "            duration_days   region  name_length  \n",
       "ID                                               \n",
       "1000002330             58   Europe           31  \n",
       "1000003930             59  America           45  \n",
       "1000004038             44  America           14  "
      ]
     },
     "execution_count": 54,
     "metadata": {},
     "output_type": "execute_result"
    }
   ],
   "source": [
    "df.head(3)"
   ]
  },
  {
   "cell_type": "code",
   "execution_count": 55,
   "metadata": {},
   "outputs": [],
   "source": [
    "categorical_features = ['category', 'main_category', 'currency', 'region']"
   ]
  },
  {
   "cell_type": "markdown",
   "metadata": {},
   "source": [
    "Here we will create dummies for categorical features and drop one of them to prevent linear dependance"
   ]
  },
  {
   "cell_type": "code",
   "execution_count": 56,
   "metadata": {},
   "outputs": [],
   "source": [
    "dummies = pd.get_dummies(df[categorical_features], drop_first=True) #drop one column for every dummy category\n",
    "df = pd.concat([df, dummies], axis=1).drop(categorical_features, axis=1)"
   ]
  },
  {
   "cell_type": "code",
   "execution_count": 57,
   "metadata": {
    "scrolled": false
   },
   "outputs": [
    {
     "data": {
      "text/html": [
       "<div>\n",
       "<style scoped>\n",
       "    .dataframe tbody tr th:only-of-type {\n",
       "        vertical-align: middle;\n",
       "    }\n",
       "\n",
       "    .dataframe tbody tr th {\n",
       "        vertical-align: top;\n",
       "    }\n",
       "\n",
       "    .dataframe thead th {\n",
       "        text-align: right;\n",
       "    }\n",
       "</style>\n",
       "<table border=\"1\" class=\"dataframe\">\n",
       "  <thead>\n",
       "    <tr style=\"text-align: right;\">\n",
       "      <th></th>\n",
       "      <th>goal</th>\n",
       "      <th>succeses</th>\n",
       "      <th>year</th>\n",
       "      <th>duration_days</th>\n",
       "      <th>name_length</th>\n",
       "      <th>category_Apparel</th>\n",
       "      <th>category_Apps</th>\n",
       "      <th>category_Art</th>\n",
       "      <th>category_Children's Books</th>\n",
       "      <th>category_Comic Books</th>\n",
       "      <th>...</th>\n",
       "      <th>currency_JPY</th>\n",
       "      <th>currency_MXN</th>\n",
       "      <th>currency_NOK</th>\n",
       "      <th>currency_NZD</th>\n",
       "      <th>currency_SEK</th>\n",
       "      <th>currency_SGD</th>\n",
       "      <th>currency_USD</th>\n",
       "      <th>region_Asia</th>\n",
       "      <th>region_Europe</th>\n",
       "      <th>region_Oceania</th>\n",
       "    </tr>\n",
       "    <tr>\n",
       "      <th>ID</th>\n",
       "      <th></th>\n",
       "      <th></th>\n",
       "      <th></th>\n",
       "      <th></th>\n",
       "      <th></th>\n",
       "      <th></th>\n",
       "      <th></th>\n",
       "      <th></th>\n",
       "      <th></th>\n",
       "      <th></th>\n",
       "      <th></th>\n",
       "      <th></th>\n",
       "      <th></th>\n",
       "      <th></th>\n",
       "      <th></th>\n",
       "      <th></th>\n",
       "      <th></th>\n",
       "      <th></th>\n",
       "      <th></th>\n",
       "      <th></th>\n",
       "      <th></th>\n",
       "    </tr>\n",
       "  </thead>\n",
       "  <tbody>\n",
       "    <tr>\n",
       "      <th>1000002330</th>\n",
       "      <td>1000.000</td>\n",
       "      <td>0</td>\n",
       "      <td>2015</td>\n",
       "      <td>58</td>\n",
       "      <td>31</td>\n",
       "      <td>0</td>\n",
       "      <td>0</td>\n",
       "      <td>0</td>\n",
       "      <td>0</td>\n",
       "      <td>0</td>\n",
       "      <td>...</td>\n",
       "      <td>0</td>\n",
       "      <td>0</td>\n",
       "      <td>0</td>\n",
       "      <td>0</td>\n",
       "      <td>0</td>\n",
       "      <td>0</td>\n",
       "      <td>0</td>\n",
       "      <td>0</td>\n",
       "      <td>1</td>\n",
       "      <td>0</td>\n",
       "    </tr>\n",
       "    <tr>\n",
       "      <th>1000003930</th>\n",
       "      <td>30000.000</td>\n",
       "      <td>0</td>\n",
       "      <td>2017</td>\n",
       "      <td>59</td>\n",
       "      <td>45</td>\n",
       "      <td>0</td>\n",
       "      <td>0</td>\n",
       "      <td>0</td>\n",
       "      <td>0</td>\n",
       "      <td>0</td>\n",
       "      <td>...</td>\n",
       "      <td>0</td>\n",
       "      <td>0</td>\n",
       "      <td>0</td>\n",
       "      <td>0</td>\n",
       "      <td>0</td>\n",
       "      <td>0</td>\n",
       "      <td>1</td>\n",
       "      <td>0</td>\n",
       "      <td>0</td>\n",
       "      <td>0</td>\n",
       "    </tr>\n",
       "    <tr>\n",
       "      <th>1000004038</th>\n",
       "      <td>45000.000</td>\n",
       "      <td>0</td>\n",
       "      <td>2013</td>\n",
       "      <td>44</td>\n",
       "      <td>14</td>\n",
       "      <td>0</td>\n",
       "      <td>0</td>\n",
       "      <td>0</td>\n",
       "      <td>0</td>\n",
       "      <td>0</td>\n",
       "      <td>...</td>\n",
       "      <td>0</td>\n",
       "      <td>0</td>\n",
       "      <td>0</td>\n",
       "      <td>0</td>\n",
       "      <td>0</td>\n",
       "      <td>0</td>\n",
       "      <td>1</td>\n",
       "      <td>0</td>\n",
       "      <td>0</td>\n",
       "      <td>0</td>\n",
       "    </tr>\n",
       "  </tbody>\n",
       "</table>\n",
       "<p>3 rows × 78 columns</p>\n",
       "</div>"
      ],
      "text/plain": [
       "                goal  succeses  year  duration_days  name_length  \\\n",
       "ID                                                                 \n",
       "1000002330  1000.000         0  2015             58           31   \n",
       "1000003930 30000.000         0  2017             59           45   \n",
       "1000004038 45000.000         0  2013             44           14   \n",
       "\n",
       "            category_Apparel  category_Apps  category_Art  \\\n",
       "ID                                                          \n",
       "1000002330                 0              0             0   \n",
       "1000003930                 0              0             0   \n",
       "1000004038                 0              0             0   \n",
       "\n",
       "            category_Children's Books  category_Comic Books  ...  \\\n",
       "ID                                                           ...   \n",
       "1000002330                          0                     0  ...   \n",
       "1000003930                          0                     0  ...   \n",
       "1000004038                          0                     0  ...   \n",
       "\n",
       "            currency_JPY  currency_MXN  currency_NOK  currency_NZD  \\\n",
       "ID                                                                   \n",
       "1000002330             0             0             0             0   \n",
       "1000003930             0             0             0             0   \n",
       "1000004038             0             0             0             0   \n",
       "\n",
       "            currency_SEK  currency_SGD  currency_USD  region_Asia  \\\n",
       "ID                                                                  \n",
       "1000002330             0             0             0            0   \n",
       "1000003930             0             0             1            0   \n",
       "1000004038             0             0             1            0   \n",
       "\n",
       "            region_Europe  region_Oceania  \n",
       "ID                                         \n",
       "1000002330              1               0  \n",
       "1000003930              0               0  \n",
       "1000004038              0               0  \n",
       "\n",
       "[3 rows x 78 columns]"
      ]
     },
     "execution_count": 57,
     "metadata": {},
     "output_type": "execute_result"
    }
   ],
   "source": [
    "df.head(3)"
   ]
  },
  {
   "cell_type": "markdown",
   "metadata": {},
   "source": [
    "### Answer:"
   ]
  },
  {
   "cell_type": "code",
   "execution_count": 58,
   "metadata": {
    "scrolled": false
   },
   "outputs": [
    {
     "name": "stdout",
     "output_type": "stream",
     "text": [
      "Columns after preprocessing:\n",
      " 78\n"
     ]
    }
   ],
   "source": [
    "print(f'Columns after preprocessing:\\n {df.shape[1]}')"
   ]
  },
  {
   "cell_type": "markdown",
   "metadata": {},
   "source": [
    " ---"
   ]
  },
  {
   "cell_type": "markdown",
   "metadata": {},
   "source": [
    "<div id='q3.3'> <h3><a href=#Contents>Q3.3 Split the dataset</a> </h3></div>\n",
    "\n",
    "Separate the target column (state) without stratification and with random state 42 and test size 0.2. How many of successful projects in train set?"
   ]
  },
  {
   "cell_type": "code",
   "execution_count": 59,
   "metadata": {},
   "outputs": [
    {
     "data": {
      "text/plain": [
       "(370219, 78)"
      ]
     },
     "execution_count": 59,
     "metadata": {},
     "output_type": "execute_result"
    }
   ],
   "source": [
    "df.shape"
   ]
  },
  {
   "cell_type": "code",
   "execution_count": 60,
   "metadata": {},
   "outputs": [],
   "source": [
    "from sklearn.model_selection import train_test_split\n",
    "\n",
    "X = df.drop('succeses', axis=1)\n",
    "y = df.succeses\n",
    "\n",
    "X_train, X_test, y_train, y_test = train_test_split(X, y, test_size=0.2, random_state=42)"
   ]
  },
  {
   "cell_type": "markdown",
   "metadata": {},
   "source": [
    "### Answer:"
   ]
  },
  {
   "cell_type": "code",
   "execution_count": 61,
   "metadata": {},
   "outputs": [
    {
     "name": "stdout",
     "output_type": "stream",
     "text": [
      "Successful projects:\n",
      "Train: 107134 \n",
      "Test:  26717\n"
     ]
    }
   ],
   "source": [
    "print(f'Successful projects:\\nTrain: {y_train.sum()} \\nTest:  {y_test.sum()}')"
   ]
  },
  {
   "cell_type": "code",
   "execution_count": 62,
   "metadata": {},
   "outputs": [
    {
     "name": "stdout",
     "output_type": "stream",
     "text": [
      "Success rate:\n",
      "Train: 0.362\n",
      "Test : 0.361\n"
     ]
    }
   ],
   "source": [
    "print(f'Success rate:\\nTrain: {y_train.mean():.3f}\\nTest : {y_test.mean():.3f}')"
   ]
  },
  {
   "cell_type": "markdown",
   "metadata": {},
   "source": [
    "---"
   ]
  },
  {
   "cell_type": "markdown",
   "metadata": {},
   "source": [
    "<div id='q3.4'> <h3> <a href=#Contents>Q3.4 Scale the numeric columns with standard scaler</a> </h3></div>\n",
    "\n",
    "What is max number in goal field after scaling?"
   ]
  },
  {
   "cell_type": "code",
   "execution_count": 63,
   "metadata": {},
   "outputs": [],
   "source": [
    "from sklearn.preprocessing import StandardScaler"
   ]
  },
  {
   "cell_type": "code",
   "execution_count": 64,
   "metadata": {},
   "outputs": [],
   "source": [
    "scaler = StandardScaler()\n",
    "\n",
    "numerical_colums = ['goal', 'year', 'duration_days', 'name_length']\n",
    "\n",
    "X_train[numerical_colums] = scaler.fit_transform(X_train[numerical_colums])\n",
    "\n",
    "X_test[numerical_colums]= scaler.transform(X_test[numerical_colums])"
   ]
  },
  {
   "cell_type": "markdown",
   "metadata": {},
   "source": [
    "### Answer:"
   ]
  },
  {
   "cell_type": "code",
   "execution_count": 65,
   "metadata": {
    "scrolled": false
   },
   "outputs": [
    {
     "name": "stdout",
     "output_type": "stream",
     "text": [
      "93.264\n"
     ]
    }
   ],
   "source": [
    "print(round(X_train.goal.max(), 3))"
   ]
  },
  {
   "cell_type": "markdown",
   "metadata": {},
   "source": [
    "---"
   ]
  },
  {
   "cell_type": "markdown",
   "metadata": {},
   "source": [
    "<div id=\"Section 4\"></div><a href=#Contents><h1>Section 4. Feature selection<a href=#Contents></h1>\n"
   ]
  },
  {
   "cell_type": "markdown",
   "metadata": {},
   "source": [
    "<div id='q4.1'> <h3> <a href=#Contents>Q4.1 Estimate feature importance by Anova</a> </h3></div>\n",
    "\n",
    "\n",
    "What is the two most important features by anova with f classifier?"
   ]
  },
  {
   "cell_type": "code",
   "execution_count": 66,
   "metadata": {},
   "outputs": [],
   "source": [
    "from sklearn.feature_selection import SelectKBest, f_classif\n",
    "\n",
    "selector = SelectKBest(f_classif, k=2)\n",
    "X_anova = selector.fit_transform(X_train, y_train)\n",
    "\n",
    "anova_feature_importance = pd.DataFrame({'Feature' : X_train.columns,'Score' : selector.scores_})\\\n",
    "                                        .sort_values(by='Score', ascending=False)"
   ]
  },
  {
   "cell_type": "markdown",
   "metadata": {},
   "source": [
    "### Answer:"
   ]
  },
  {
   "cell_type": "code",
   "execution_count": 67,
   "metadata": {},
   "outputs": [
    {
     "data": {
      "text/html": [
       "<div>\n",
       "<style scoped>\n",
       "    .dataframe tbody tr th:only-of-type {\n",
       "        vertical-align: middle;\n",
       "    }\n",
       "\n",
       "    .dataframe tbody tr th {\n",
       "        vertical-align: top;\n",
       "    }\n",
       "\n",
       "    .dataframe thead th {\n",
       "        text-align: right;\n",
       "    }\n",
       "</style>\n",
       "<table border=\"1\" class=\"dataframe\">\n",
       "  <thead>\n",
       "    <tr style=\"text-align: right;\">\n",
       "      <th></th>\n",
       "      <th>Feature</th>\n",
       "      <th>Score</th>\n",
       "    </tr>\n",
       "  </thead>\n",
       "  <tbody>\n",
       "    <tr>\n",
       "      <th>56</th>\n",
       "      <td>main_category_Music</td>\n",
       "      <td>3380.158</td>\n",
       "    </tr>\n",
       "    <tr>\n",
       "      <th>59</th>\n",
       "      <td>main_category_Technology</td>\n",
       "      <td>3108.616</td>\n",
       "    </tr>\n",
       "  </tbody>\n",
       "</table>\n",
       "</div>"
      ],
      "text/plain": [
       "                     Feature    Score\n",
       "56       main_category_Music 3380.158\n",
       "59  main_category_Technology 3108.616"
      ]
     },
     "execution_count": 67,
     "metadata": {},
     "output_type": "execute_result"
    }
   ],
   "source": [
    "anova_feature_importance.head(2)"
   ]
  },
  {
   "cell_type": "markdown",
   "metadata": {},
   "source": [
    "------"
   ]
  },
  {
   "cell_type": "markdown",
   "metadata": {},
   "source": [
    "<div id='q4.2'> <h3> <a href=#Contents>Q4.2 Estimate optimal C for l2 regularization</a> </h3></div>\n",
    "\n",
    "Build a model with logistic regression\n",
    "\n",
    "Use l2 penalty and search for optimal `C` in `np.logspace(-2, 4, 7)`."
   ]
  },
  {
   "cell_type": "code",
   "execution_count": 68,
   "metadata": {},
   "outputs": [],
   "source": [
    "from sklearn.linear_model import LogisticRegression\n",
    "from sklearn.model_selection import GridSearchCV\n",
    "from sklearn.metrics import accuracy_score\n",
    "from sklearn.model_selection import KFold"
   ]
  },
  {
   "cell_type": "markdown",
   "metadata": {},
   "source": [
    "#### Best parameters after a grid search specified manually below in a sake of computational resources"
   ]
  },
  {
   "cell_type": "code",
   "execution_count": 69,
   "metadata": {},
   "outputs": [
    {
     "name": "stdout",
     "output_type": "stream",
     "text": [
      "Fitting 5 folds for each of 7 candidates, totalling 35 fits\n"
     ]
    },
    {
     "name": "stderr",
     "output_type": "stream",
     "text": [
      "[Parallel(n_jobs=-1)]: Using backend LokyBackend with 4 concurrent workers.\n",
      "[Parallel(n_jobs=-1)]: Done   5 tasks      | elapsed:   23.4s\n",
      "[Parallel(n_jobs=-1)]: Done  10 tasks      | elapsed:   37.1s\n",
      "[Parallel(n_jobs=-1)]: Done  17 tasks      | elapsed:   54.9s\n",
      "[Parallel(n_jobs=-1)]: Done  24 tasks      | elapsed:  1.1min\n",
      "[Parallel(n_jobs=-1)]: Done  32 out of  35 | elapsed:  1.5min remaining:    8.3s\n",
      "[Parallel(n_jobs=-1)]: Done  35 out of  35 | elapsed:  1.6min finished\n"
     ]
    }
   ],
   "source": [
    "logreg_grid_search = GridSearchCV(estimator=LogisticRegression(penalty='l2'),\n",
    "                                  param_grid={'C' : np.logspace(-2, 4, 7)},\n",
    "                                  n_jobs=-1,\n",
    "                                  verbose=10)\n",
    "\n",
    "logreg_grid_search.fit(X_train, y_train)\n",
    "\n",
    "clf_logreg = logreg_grid_search.best_estimator_"
   ]
  },
  {
   "cell_type": "code",
   "execution_count": 70,
   "metadata": {},
   "outputs": [
    {
     "data": {
      "text/plain": [
       "LogisticRegression(C=1000.0)"
      ]
     },
     "execution_count": 70,
     "metadata": {},
     "output_type": "execute_result"
    }
   ],
   "source": [
    "clf_logreg.fit(X_train, y_train)"
   ]
  },
  {
   "cell_type": "markdown",
   "metadata": {},
   "source": [
    "### Answer:"
   ]
  },
  {
   "cell_type": "code",
   "execution_count": 71,
   "metadata": {
    "scrolled": false
   },
   "outputs": [
    {
     "name": "stdout",
     "output_type": "stream",
     "text": [
      "LogisticRegression(C=1000.0)\n"
     ]
    }
   ],
   "source": [
    "print(clf_logreg)"
   ]
  },
  {
   "cell_type": "markdown",
   "metadata": {},
   "source": [
    "---"
   ]
  },
  {
   "cell_type": "markdown",
   "metadata": {},
   "source": [
    "<div id='q4.3'> <h3> <a href=#Contents>Q4.3 What is the accuracy for this params?</a> </h3></div>"
   ]
  },
  {
   "cell_type": "code",
   "execution_count": 72,
   "metadata": {},
   "outputs": [],
   "source": [
    "y_pred_logreg = clf_logreg.predict(X_test)\n",
    "y_pred_proba_logred = clf_logreg.predict_proba(X_test)[:,1]"
   ]
  },
  {
   "cell_type": "markdown",
   "metadata": {},
   "source": [
    "### Answer"
   ]
  },
  {
   "cell_type": "code",
   "execution_count": 73,
   "metadata": {
    "scrolled": true
   },
   "outputs": [
    {
     "name": "stdout",
     "output_type": "stream",
     "text": [
      "Accuracy:\n",
      "0.678\n"
     ]
    }
   ],
   "source": [
    "print(f'Accuracy:\\n{round(accuracy_score(y_test, y_pred_logreg), 3)}')"
   ]
  },
  {
   "cell_type": "markdown",
   "metadata": {},
   "source": [
    "---"
   ]
  },
  {
   "cell_type": "markdown",
   "metadata": {},
   "source": [
    "<div id='q4.4'> <h3> <a href=#Contents>Q4.4 Most important features by logistic regression</a> </h3></div>"
   ]
  },
  {
   "cell_type": "code",
   "execution_count": 74,
   "metadata": {},
   "outputs": [],
   "source": [
    "df_logreg_coeff = pd.DataFrame({'Feature' : X_train.columns,\n",
    "                   'Coefficient' : abs(clf_logreg.coef_[0])}).sort_values(by='Coefficient', ascending=False)"
   ]
  },
  {
   "cell_type": "markdown",
   "metadata": {},
   "source": [
    "### Answer:"
   ]
  },
  {
   "cell_type": "code",
   "execution_count": 75,
   "metadata": {
    "scrolled": true
   },
   "outputs": [
    {
     "data": {
      "text/html": [
       "<div>\n",
       "<style scoped>\n",
       "    .dataframe tbody tr th:only-of-type {\n",
       "        vertical-align: middle;\n",
       "    }\n",
       "\n",
       "    .dataframe tbody tr th {\n",
       "        vertical-align: top;\n",
       "    }\n",
       "\n",
       "    .dataframe thead th {\n",
       "        text-align: right;\n",
       "    }\n",
       "</style>\n",
       "<table border=\"1\" class=\"dataframe\">\n",
       "  <thead>\n",
       "    <tr style=\"text-align: right;\">\n",
       "      <th></th>\n",
       "      <th>Feature</th>\n",
       "      <th>Coefficient</th>\n",
       "    </tr>\n",
       "  </thead>\n",
       "  <tbody>\n",
       "    <tr>\n",
       "      <th>0</th>\n",
       "      <td>goal</td>\n",
       "      <td>14.109</td>\n",
       "    </tr>\n",
       "    <tr>\n",
       "      <th>5</th>\n",
       "      <td>category_Apps</td>\n",
       "      <td>2.096</td>\n",
       "    </tr>\n",
       "    <tr>\n",
       "      <th>44</th>\n",
       "      <td>category_Web</td>\n",
       "      <td>1.692</td>\n",
       "    </tr>\n",
       "    <tr>\n",
       "      <th>2</th>\n",
       "      <td>duration_days</td>\n",
       "      <td>1.240</td>\n",
       "    </tr>\n",
       "    <tr>\n",
       "      <th>40</th>\n",
       "      <td>category_Tabletop Games</td>\n",
       "      <td>1.015</td>\n",
       "    </tr>\n",
       "  </tbody>\n",
       "</table>\n",
       "</div>"
      ],
      "text/plain": [
       "                    Feature  Coefficient\n",
       "0                      goal       14.109\n",
       "5             category_Apps        2.096\n",
       "44             category_Web        1.692\n",
       "2             duration_days        1.240\n",
       "40  category_Tabletop Games        1.015"
      ]
     },
     "execution_count": 75,
     "metadata": {},
     "output_type": "execute_result"
    }
   ],
   "source": [
    "df_logreg_coeff.head()"
   ]
  },
  {
   "cell_type": "markdown",
   "metadata": {},
   "source": [
    "---"
   ]
  },
  {
   "cell_type": "markdown",
   "metadata": {},
   "source": [
    "<div id='q4.5'> <h3> <a href=#Contents>Q4.5 Build roc curve and calculate roc-auc score.</a> </h3></div>"
   ]
  },
  {
   "cell_type": "code",
   "execution_count": 76,
   "metadata": {},
   "outputs": [],
   "source": [
    "from sklearn.metrics import roc_auc_score, roc_curve\n",
    "\n",
    "logreg_fpr, logreg_tpr, _ = roc_curve(y_test, y_pred_proba_logred, pos_label=1)\n",
    "\n",
    "roc_auc_score = round(roc_auc_score(y_test, y_pred_proba_logred), 3)"
   ]
  },
  {
   "cell_type": "code",
   "execution_count": 77,
   "metadata": {
    "scrolled": false
   },
   "outputs": [
    {
     "data": {
      "image/png": "[encoded data removed]",
      "text/plain": [
       "<Figure size 700x700 with 1 Axes>"
      ]
     },
     "metadata": {
      "needs_background": "light"
     },
     "output_type": "display_data"
    }
   ],
   "source": [
    "plt.figure(figsize=(7, 7), dpi=100)\n",
    "plt.title('Logistic Regression ROC curve', fontsize=14)\n",
    "plt.plot(logreg_fpr, logreg_tpr, label=f'ROC AUC score: {roc_auc_score}')\n",
    "plt.plot([0, 1], [0, 1], color='r', linestyle='--')\n",
    "plt.legend(fontsize =12)\n",
    "\n",
    "plt.xticks(np.arange(0, 1, step=0.1))\n",
    "plt.yticks(np.arange(0, 1, step=0.1))\n",
    "plt.xlabel('False Positive Rate', fontsize=12)\n",
    "plt.ylabel('True Positive Rate', fontsize=12)\n",
    "plt.grid(alpha=.5)\n",
    "plt.xlim([0.0, 1.0])\n",
    "plt.ylim([0.0, 1.0])\n",
    "plt.show()"
   ]
  },
  {
   "cell_type": "code",
   "execution_count": 78,
   "metadata": {},
   "outputs": [
    {
     "data": {
      "image/png": "[encoded data removed]",
      "text/plain": [
       "<Figure size 432x288 with 2 Axes>"
      ]
     },
     "metadata": {
      "needs_background": "light"
     },
     "output_type": "display_data"
    }
   ],
   "source": [
    "from sklearn.metrics import plot_confusion_matrix\n",
    "\n",
    "plot_confusion_matrix(clf_logreg, X_test, y_test);"
   ]
  },
  {
   "cell_type": "markdown",
   "metadata": {},
   "source": [
    "### Answer:"
   ]
  },
  {
   "cell_type": "code",
   "execution_count": 79,
   "metadata": {},
   "outputs": [
    {
     "name": "stdout",
     "output_type": "stream",
     "text": [
      "0.702\n"
     ]
    }
   ],
   "source": [
    "print(roc_auc_score)"
   ]
  },
  {
   "cell_type": "markdown",
   "metadata": {},
   "source": [
    "\n",
    "------"
   ]
  },
  {
   "cell_type": "markdown",
   "metadata": {},
   "source": [
    "<div id='q4.6'> <h3> <a href=#Contents>Q4.6 Optimal depth and number of trees for RF model.</a> </h3></div>"
   ]
  },
  {
   "cell_type": "markdown",
   "metadata": {},
   "source": [
    "### Build a random forest model\n",
    "Use random state `42`, maximum depth from `2` to `15`, and number of estimators in `[10, 20, 50, 100, 200]`\n",
    "\n",
    "**Note**:\n",
    "\n",
    "Hyperparameter tuning takes almost 40 min. So, I just specified best parameters manualy.\n",
    "One can uncomment the cell below to run full procedure"
   ]
  },
  {
   "cell_type": "code",
   "execution_count": 80,
   "metadata": {},
   "outputs": [],
   "source": [
    "from sklearn.ensemble import RandomForestClassifier\n",
    "\n",
    "rf_clf = RandomForestClassifier(random_state=42)"
   ]
  },
  {
   "cell_type": "code",
   "execution_count": 81,
   "metadata": {},
   "outputs": [
    {
     "name": "stdout",
     "output_type": "stream",
     "text": [
      "Fitting 5 folds for each of 70 candidates, totalling 350 fits\n"
     ]
    },
    {
     "name": "stderr",
     "output_type": "stream",
     "text": [
      "[Parallel(n_jobs=-1)]: Using backend LokyBackend with 4 concurrent workers.\n",
      "[Parallel(n_jobs=-1)]: Done  24 tasks      | elapsed:   40.8s\n",
      "[Parallel(n_jobs=-1)]: Done 120 tasks      | elapsed:  4.7min\n",
      "[Parallel(n_jobs=-1)]: Done 280 tasks      | elapsed: 18.8min\n",
      "[Parallel(n_jobs=-1)]: Done 350 out of 350 | elapsed: 30.3min finished\n"
     ]
    }
   ],
   "source": [
    "rf_grid_search = GridSearchCV(\n",
    "    estimator = rf_clf,\n",
    "    param_grid={'max_depth' : [i for i in range(2, 16)],'n_estimators' : [10, 20, 50, 100, 200]},\n",
    "    n_jobs=-1,\n",
    "    verbose=3)\n",
    "\n",
    "rf_grid_search.fit(X_train, y_train)\n",
    "rf_clf = rf_grid_search.best_estimator_"
   ]
  },
  {
   "cell_type": "markdown",
   "metadata": {},
   "source": [
    "### Answer:"
   ]
  },
  {
   "cell_type": "code",
   "execution_count": 82,
   "metadata": {},
   "outputs": [
    {
     "data": {
      "text/plain": [
       "RandomForestClassifier(max_depth=15, n_estimators=50, random_state=42)"
      ]
     },
     "execution_count": 82,
     "metadata": {},
     "output_type": "execute_result"
    }
   ],
   "source": [
    "rf_clf"
   ]
  },
  {
   "cell_type": "markdown",
   "metadata": {},
   "source": [
    "----"
   ]
  },
  {
   "cell_type": "markdown",
   "metadata": {},
   "source": [
    "<div id='q4.7'> <h3> <a href=#Contents>Q4.7  Accuracy of RF model.</a> </h3></div>"
   ]
  },
  {
   "cell_type": "code",
   "execution_count": 83,
   "metadata": {},
   "outputs": [],
   "source": [
    "rf_clf.fit(X_train, y_train)\n",
    "y_pred_rf = rf_clf.predict(X_test)"
   ]
  },
  {
   "cell_type": "code",
   "execution_count": 84,
   "metadata": {},
   "outputs": [
    {
     "data": {
      "image/png": "[encoded data removed]",
      "text/plain": [
       "<Figure size 432x288 with 2 Axes>"
      ]
     },
     "metadata": {
      "needs_background": "light"
     },
     "output_type": "display_data"
    }
   ],
   "source": [
    "plot_confusion_matrix(rf_clf, X_test, y_test);"
   ]
  },
  {
   "cell_type": "markdown",
   "metadata": {},
   "source": [
    "### Answer:"
   ]
  },
  {
   "cell_type": "code",
   "execution_count": 85,
   "metadata": {},
   "outputs": [
    {
     "name": "stdout",
     "output_type": "stream",
     "text": [
      "0.69\n"
     ]
    }
   ],
   "source": [
    "print(round(accuracy_score(y_test, y_pred_rf), 3))"
   ]
  },
  {
   "cell_type": "markdown",
   "metadata": {},
   "source": [
    "___"
   ]
  },
  {
   "cell_type": "markdown",
   "metadata": {},
   "source": [
    "<div id='q4.8'> <h3> <a href=#Contents>Q4.8 Build precision-recall curve. What is the precision for recall 0.5?</a> </h3></div>"
   ]
  },
  {
   "cell_type": "code",
   "execution_count": 86,
   "metadata": {},
   "outputs": [],
   "source": [
    "from sklearn.metrics import precision_recall_curve\n",
    "\n",
    "y_pred_proba_rf = rf_clf.predict_proba(X_test)[:,1]\n",
    "\n",
    "precision, recall, _ = precision_recall_curve(y_test, y_pred_proba_rf)"
   ]
  },
  {
   "cell_type": "code",
   "execution_count": 87,
   "metadata": {},
   "outputs": [
    {
     "data": {
      "image/png": "[encoded data removed]",
      "text/plain": [
       "<Figure size 600x600 with 1 Axes>"
      ]
     },
     "metadata": {
      "needs_background": "light"
     },
     "output_type": "display_data"
    }
   ],
   "source": [
    "plt.figure(figsize=(6, 6), dpi=100)\n",
    "plt.title('Precision-Recall curve', fontsize=14)\n",
    "plt.plot(recall, precision, color='r')\n",
    "plt.vlines(0.5, 0, 1, ls='--')\n",
    "\n",
    "plt.xlabel('Recall', fontsize=12)\n",
    "plt.ylabel('Precision', fontsize=12)\n",
    "\n",
    "plt.xticks(np.arange(0, 1, step=0.1))\n",
    "plt.yticks(np.arange(0, 1, step=0.1))\n",
    "plt.ylim([0.0, 1.0])\n",
    "plt.xlim([0.0, 1.0])\n",
    "plt.grid(alpha=.4)"
   ]
  },
  {
   "cell_type": "markdown",
   "metadata": {},
   "source": [
    "### Answer:"
   ]
  },
  {
   "cell_type": "code",
   "execution_count": 88,
   "metadata": {
    "scrolled": true
   },
   "outputs": [
    {
     "data": {
      "text/html": [
       "<div>\n",
       "<style scoped>\n",
       "    .dataframe tbody tr th:only-of-type {\n",
       "        vertical-align: middle;\n",
       "    }\n",
       "\n",
       "    .dataframe tbody tr th {\n",
       "        vertical-align: top;\n",
       "    }\n",
       "\n",
       "    .dataframe thead th {\n",
       "        text-align: right;\n",
       "    }\n",
       "</style>\n",
       "<table border=\"1\" class=\"dataframe\">\n",
       "  <thead>\n",
       "    <tr style=\"text-align: right;\">\n",
       "      <th></th>\n",
       "      <th>precision</th>\n",
       "      <th>recall</th>\n",
       "    </tr>\n",
       "  </thead>\n",
       "  <tbody>\n",
       "    <tr>\n",
       "      <th>45390</th>\n",
       "      <td>0.581</td>\n",
       "      <td>0.500</td>\n",
       "    </tr>\n",
       "    <tr>\n",
       "      <th>45391</th>\n",
       "      <td>0.581</td>\n",
       "      <td>0.500</td>\n",
       "    </tr>\n",
       "    <tr>\n",
       "      <th>45392</th>\n",
       "      <td>0.581</td>\n",
       "      <td>0.500</td>\n",
       "    </tr>\n",
       "  </tbody>\n",
       "</table>\n",
       "</div>"
      ],
      "text/plain": [
       "       precision  recall\n",
       "45390      0.581   0.500\n",
       "45391      0.581   0.500\n",
       "45392      0.581   0.500"
      ]
     },
     "execution_count": 88,
     "metadata": {},
     "output_type": "execute_result"
    }
   ],
   "source": [
    "df_precision_recal = pd.DataFrame({'precision' : precision, 'recall' : recall})\n",
    "\n",
    "df_precision_recal[(df_precision_recal.recall >= 0.5) & (df_precision_recal.recall < 0.5001)]"
   ]
  },
  {
   "cell_type": "markdown",
   "metadata": {},
   "source": [
    "---"
   ]
  },
  {
   "cell_type": "markdown",
   "metadata": {},
   "source": [
    "<div id='q4.9'> <h3> <a href=#Contents>Q4.9 What is the two most important features by random forest?</a> </h3></div>"
   ]
  },
  {
   "cell_type": "code",
   "execution_count": 89,
   "metadata": {},
   "outputs": [],
   "source": [
    "rf_feature_importance = pd.DataFrame({'Importance': rf_clf.feature_importances_}, index=X_train.columns)\\\n",
    ".sort_values(by='Importance', ascending=False)"
   ]
  },
  {
   "cell_type": "code",
   "execution_count": 90,
   "metadata": {
    "scrolled": false
   },
   "outputs": [
    {
     "data": {
      "text/plain": [
       "<AxesSubplot:title={'center':'Features Importance'}>"
      ]
     },
     "execution_count": 90,
     "metadata": {},
     "output_type": "execute_result"
    },
    {
     "data": {
      "image/png": "[encoded data removed]",
      "text/plain": [
       "<Figure size 720x432 with 1 Axes>"
      ]
     },
     "metadata": {
      "needs_background": "light"
     },
     "output_type": "display_data"
    }
   ],
   "source": [
    "rf_feature_importance[:6].plot(kind='barh',\n",
    "                                  figsize=(10,6),\n",
    "                                  title='Features Importance',\n",
    "                                color=['b'],\n",
    "                                alpha=.4)"
   ]
  },
  {
   "cell_type": "markdown",
   "metadata": {},
   "source": [
    "### Answer:"
   ]
  },
  {
   "cell_type": "code",
   "execution_count": 91,
   "metadata": {},
   "outputs": [
    {
     "data": {
      "text/html": [
       "<div>\n",
       "<style scoped>\n",
       "    .dataframe tbody tr th:only-of-type {\n",
       "        vertical-align: middle;\n",
       "    }\n",
       "\n",
       "    .dataframe tbody tr th {\n",
       "        vertical-align: top;\n",
       "    }\n",
       "\n",
       "    .dataframe thead th {\n",
       "        text-align: right;\n",
       "    }\n",
       "</style>\n",
       "<table border=\"1\" class=\"dataframe\">\n",
       "  <thead>\n",
       "    <tr style=\"text-align: right;\">\n",
       "      <th></th>\n",
       "      <th>Importance</th>\n",
       "    </tr>\n",
       "  </thead>\n",
       "  <tbody>\n",
       "    <tr>\n",
       "      <th>goal</th>\n",
       "      <td>0.306</td>\n",
       "    </tr>\n",
       "    <tr>\n",
       "      <th>duration_days</th>\n",
       "      <td>0.154</td>\n",
       "    </tr>\n",
       "    <tr>\n",
       "      <th>name_length</th>\n",
       "      <td>0.101</td>\n",
       "    </tr>\n",
       "    <tr>\n",
       "      <th>year</th>\n",
       "      <td>0.090</td>\n",
       "    </tr>\n",
       "    <tr>\n",
       "      <th>category_Tabletop Games</th>\n",
       "      <td>0.036</td>\n",
       "    </tr>\n",
       "  </tbody>\n",
       "</table>\n",
       "</div>"
      ],
      "text/plain": [
       "                         Importance\n",
       "goal                          0.306\n",
       "duration_days                 0.154\n",
       "name_length                   0.101\n",
       "year                          0.090\n",
       "category_Tabletop Games       0.036"
      ]
     },
     "execution_count": 91,
     "metadata": {},
     "output_type": "execute_result"
    }
   ],
   "source": [
    "rf_feature_importance.head()"
   ]
  },
  {
   "cell_type": "markdown",
   "metadata": {},
   "source": [
    "------"
   ]
  },
  {
   "cell_type": "markdown",
   "metadata": {},
   "source": [
    "<div id=\"Section 5\"><a href=#Contents><h1>Section 5. Build the stronger model</h1></a></div>"
   ]
  },
  {
   "cell_type": "markdown",
   "metadata": {},
   "source": [
    "<div id='q5.0'> <h3> <a href=#Contents>Q5.0 Additional data cleaning</a> </h3></div>"
   ]
  },
  {
   "cell_type": "markdown",
   "metadata": {},
   "source": [
    "####  5.0.1 Remove data with wrong launch date (01.01.1970)\n",
    "\n",
    "There are some projects that have a missing value for the launched date (this date set to UNIX-time == 0). Lets drop them."
   ]
  },
  {
   "cell_type": "code",
   "execution_count": 92,
   "metadata": {},
   "outputs": [],
   "source": [
    "df_xgb = df_xgb[df_xgb.year != 1970]"
   ]
  },
  {
   "cell_type": "markdown",
   "metadata": {},
   "source": [
    "#### 5.0.2 Drop leakage columns"
   ]
  },
  {
   "cell_type": "code",
   "execution_count": 93,
   "metadata": {},
   "outputs": [],
   "source": [
    "df_xgb = df_xgb.drop(leakage_columns, axis=1)"
   ]
  },
  {
   "cell_type": "code",
   "execution_count": 94,
   "metadata": {},
   "outputs": [],
   "source": [
    "df_new = df_xgb.copy()"
   ]
  },
  {
   "cell_type": "markdown",
   "metadata": {},
   "source": [
    "#### 5.0.3 One may note that there are a lot of projects names with `canceled` in it. It might be also a kind of leakage feature. Let's remove this word."
   ]
  },
  {
   "cell_type": "code",
   "execution_count": 95,
   "metadata": {},
   "outputs": [
    {
     "data": {
      "text/html": [
       "<div>\n",
       "<style scoped>\n",
       "    .dataframe tbody tr th:only-of-type {\n",
       "        vertical-align: middle;\n",
       "    }\n",
       "\n",
       "    .dataframe tbody tr th {\n",
       "        vertical-align: top;\n",
       "    }\n",
       "\n",
       "    .dataframe thead th {\n",
       "        text-align: right;\n",
       "    }\n",
       "</style>\n",
       "<table border=\"1\" class=\"dataframe\">\n",
       "  <thead>\n",
       "    <tr style=\"text-align: right;\">\n",
       "      <th></th>\n",
       "      <th>name</th>\n",
       "      <th>category</th>\n",
       "      <th>main_category</th>\n",
       "      <th>currency</th>\n",
       "      <th>deadline</th>\n",
       "      <th>goal</th>\n",
       "      <th>launched</th>\n",
       "      <th>succeses</th>\n",
       "      <th>country</th>\n",
       "      <th>usd_goal_real</th>\n",
       "      <th>year</th>\n",
       "      <th>duration_days</th>\n",
       "      <th>region</th>\n",
       "    </tr>\n",
       "    <tr>\n",
       "      <th>ID</th>\n",
       "      <th></th>\n",
       "      <th></th>\n",
       "      <th></th>\n",
       "      <th></th>\n",
       "      <th></th>\n",
       "      <th></th>\n",
       "      <th></th>\n",
       "      <th></th>\n",
       "      <th></th>\n",
       "      <th></th>\n",
       "      <th></th>\n",
       "      <th></th>\n",
       "      <th></th>\n",
       "    </tr>\n",
       "  </thead>\n",
       "  <tbody>\n",
       "    <tr>\n",
       "      <th>1748829297</th>\n",
       "      <td>project canceled (Canceled)</td>\n",
       "      <td>Photobooks</td>\n",
       "      <td>Photography</td>\n",
       "      <td>USD</td>\n",
       "      <td>2016-01-30</td>\n",
       "      <td>12000.000</td>\n",
       "      <td>2015-12-01 03:45:54</td>\n",
       "      <td>0</td>\n",
       "      <td>US</td>\n",
       "      <td>12000.000</td>\n",
       "      <td>2015</td>\n",
       "      <td>59</td>\n",
       "      <td>America</td>\n",
       "    </tr>\n",
       "    <tr>\n",
       "      <th>1258824611</th>\n",
       "      <td>Project canceled, launching again soon (Canceled)</td>\n",
       "      <td>Documentary</td>\n",
       "      <td>Film &amp; Video</td>\n",
       "      <td>GBP</td>\n",
       "      <td>2015-01-31</td>\n",
       "      <td>100.000</td>\n",
       "      <td>2015-01-14 12:43:16</td>\n",
       "      <td>0</td>\n",
       "      <td>GB</td>\n",
       "      <td>153.180</td>\n",
       "      <td>2015</td>\n",
       "      <td>16</td>\n",
       "      <td>Europe</td>\n",
       "    </tr>\n",
       "  </tbody>\n",
       "</table>\n",
       "</div>"
      ],
      "text/plain": [
       "                                                         name     category  \\\n",
       "ID                                                                           \n",
       "1748829297                        project canceled (Canceled)   Photobooks   \n",
       "1258824611  Project canceled, launching again soon (Canceled)  Documentary   \n",
       "\n",
       "           main_category currency   deadline      goal            launched  \\\n",
       "ID                                                                           \n",
       "1748829297   Photography      USD 2016-01-30 12000.000 2015-12-01 03:45:54   \n",
       "1258824611  Film & Video      GBP 2015-01-31   100.000 2015-01-14 12:43:16   \n",
       "\n",
       "            succeses country  usd_goal_real  year  duration_days   region  \n",
       "ID                                                                         \n",
       "1748829297         0      US      12000.000  2015             59  America  \n",
       "1258824611         0      GB        153.180  2015             16   Europe  "
      ]
     },
     "execution_count": 95,
     "metadata": {},
     "output_type": "execute_result"
    }
   ],
   "source": [
    "df_new[df_new.name.str.contains('canceled')].sample(2)"
   ]
  },
  {
   "cell_type": "code",
   "execution_count": 96,
   "metadata": {},
   "outputs": [],
   "source": [
    "df_new['name_letters'] = df_new.name.apply(lambda x: ''.join([i for i in x if i.isalpha()]).lower())"
   ]
  },
  {
   "cell_type": "code",
   "execution_count": 97,
   "metadata": {},
   "outputs": [],
   "source": [
    "df_new.name_letters.replace('cancelled', '', inplace=True)\n",
    "\n",
    "df_new.name_letters.replace('canceled', '', inplace=True)"
   ]
  },
  {
   "cell_type": "markdown",
   "metadata": {},
   "source": [
    "#### Now we may note that there were some project names consists only of `cancel` or `cancelled` word. Let's drop em too"
   ]
  },
  {
   "cell_type": "code",
   "execution_count": 98,
   "metadata": {},
   "outputs": [
    {
     "data": {
      "text/html": [
       "<div>\n",
       "<style scoped>\n",
       "    .dataframe tbody tr th:only-of-type {\n",
       "        vertical-align: middle;\n",
       "    }\n",
       "\n",
       "    .dataframe tbody tr th {\n",
       "        vertical-align: top;\n",
       "    }\n",
       "\n",
       "    .dataframe thead th {\n",
       "        text-align: right;\n",
       "    }\n",
       "</style>\n",
       "<table border=\"1\" class=\"dataframe\">\n",
       "  <thead>\n",
       "    <tr style=\"text-align: right;\">\n",
       "      <th></th>\n",
       "      <th>name</th>\n",
       "      <th>category</th>\n",
       "      <th>main_category</th>\n",
       "      <th>currency</th>\n",
       "      <th>deadline</th>\n",
       "      <th>goal</th>\n",
       "      <th>launched</th>\n",
       "      <th>succeses</th>\n",
       "      <th>country</th>\n",
       "      <th>usd_goal_real</th>\n",
       "      <th>year</th>\n",
       "      <th>duration_days</th>\n",
       "      <th>region</th>\n",
       "      <th>name_letters</th>\n",
       "    </tr>\n",
       "    <tr>\n",
       "      <th>ID</th>\n",
       "      <th></th>\n",
       "      <th></th>\n",
       "      <th></th>\n",
       "      <th></th>\n",
       "      <th></th>\n",
       "      <th></th>\n",
       "      <th></th>\n",
       "      <th></th>\n",
       "      <th></th>\n",
       "      <th></th>\n",
       "      <th></th>\n",
       "      <th></th>\n",
       "      <th></th>\n",
       "      <th></th>\n",
       "    </tr>\n",
       "  </thead>\n",
       "  <tbody>\n",
       "    <tr>\n",
       "      <th>1188667875</th>\n",
       "      <td>CANCELLED</td>\n",
       "      <td>Shorts</td>\n",
       "      <td>Film &amp; Video</td>\n",
       "      <td>USD</td>\n",
       "      <td>2012-11-15</td>\n",
       "      <td>74000.000</td>\n",
       "      <td>2012-10-01 22:50:26</td>\n",
       "      <td>0</td>\n",
       "      <td>US</td>\n",
       "      <td>74000.000</td>\n",
       "      <td>2012</td>\n",
       "      <td>44</td>\n",
       "      <td>America</td>\n",
       "      <td></td>\n",
       "    </tr>\n",
       "    <tr>\n",
       "      <th>1241244476</th>\n",
       "      <td>. (Canceled)</td>\n",
       "      <td>Art</td>\n",
       "      <td>Art</td>\n",
       "      <td>USD</td>\n",
       "      <td>2009-12-16</td>\n",
       "      <td>4000.000</td>\n",
       "      <td>2009-10-14 20:20:59</td>\n",
       "      <td>0</td>\n",
       "      <td>US</td>\n",
       "      <td>4000.000</td>\n",
       "      <td>2009</td>\n",
       "      <td>62</td>\n",
       "      <td>America</td>\n",
       "      <td></td>\n",
       "    </tr>\n",
       "    <tr>\n",
       "      <th>1321768247</th>\n",
       "      <td>............... (Canceled)</td>\n",
       "      <td>Photography</td>\n",
       "      <td>Photography</td>\n",
       "      <td>USD</td>\n",
       "      <td>2010-02-02</td>\n",
       "      <td>4900.000</td>\n",
       "      <td>2009-12-08 17:15:10</td>\n",
       "      <td>0</td>\n",
       "      <td>US</td>\n",
       "      <td>4900.000</td>\n",
       "      <td>2009</td>\n",
       "      <td>55</td>\n",
       "      <td>America</td>\n",
       "      <td></td>\n",
       "    </tr>\n",
       "    <tr>\n",
       "      <th>1409648677</th>\n",
       "      <td>(Canceled)</td>\n",
       "      <td>Fashion</td>\n",
       "      <td>Fashion</td>\n",
       "      <td>USD</td>\n",
       "      <td>2014-08-24</td>\n",
       "      <td>3000.000</td>\n",
       "      <td>2014-07-25 18:59:03</td>\n",
       "      <td>0</td>\n",
       "      <td>US</td>\n",
       "      <td>3000.000</td>\n",
       "      <td>2014</td>\n",
       "      <td>29</td>\n",
       "      <td>America</td>\n",
       "      <td></td>\n",
       "    </tr>\n",
       "    <tr>\n",
       "      <th>491948968</th>\n",
       "      <td>Cancelled :(</td>\n",
       "      <td>Video Games</td>\n",
       "      <td>Games</td>\n",
       "      <td>USD</td>\n",
       "      <td>2017-07-12</td>\n",
       "      <td>500000.000</td>\n",
       "      <td>2017-06-12 23:05:06</td>\n",
       "      <td>0</td>\n",
       "      <td>US</td>\n",
       "      <td>500000.000</td>\n",
       "      <td>2017</td>\n",
       "      <td>29</td>\n",
       "      <td>America</td>\n",
       "      <td></td>\n",
       "    </tr>\n",
       "  </tbody>\n",
       "</table>\n",
       "</div>"
      ],
      "text/plain": [
       "                                  name     category main_category currency  \\\n",
       "ID                                                                           \n",
       "1188667875                   CANCELLED       Shorts  Film & Video      USD   \n",
       "1241244476                . (Canceled)          Art           Art      USD   \n",
       "1321768247  ............... (Canceled)  Photography   Photography      USD   \n",
       "1409648677                  (Canceled)      Fashion       Fashion      USD   \n",
       "491948968                 Cancelled :(  Video Games         Games      USD   \n",
       "\n",
       "             deadline       goal            launched  succeses country  \\\n",
       "ID                                                                       \n",
       "1188667875 2012-11-15  74000.000 2012-10-01 22:50:26         0      US   \n",
       "1241244476 2009-12-16   4000.000 2009-10-14 20:20:59         0      US   \n",
       "1321768247 2010-02-02   4900.000 2009-12-08 17:15:10         0      US   \n",
       "1409648677 2014-08-24   3000.000 2014-07-25 18:59:03         0      US   \n",
       "491948968  2017-07-12 500000.000 2017-06-12 23:05:06         0      US   \n",
       "\n",
       "            usd_goal_real  year  duration_days   region name_letters  \n",
       "ID                                                                    \n",
       "1188667875      74000.000  2012             44  America               \n",
       "1241244476       4000.000  2009             62  America               \n",
       "1321768247       4900.000  2009             55  America               \n",
       "1409648677       3000.000  2014             29  America               \n",
       "491948968      500000.000  2017             29  America               "
      ]
     },
     "execution_count": 98,
     "metadata": {},
     "output_type": "execute_result"
    }
   ],
   "source": [
    "df_new[df_new.name_letters == ''].head()"
   ]
  },
  {
   "cell_type": "code",
   "execution_count": 99,
   "metadata": {},
   "outputs": [],
   "source": [
    "df_new = df_new[df_new.name_letters != '']"
   ]
  },
  {
   "cell_type": "code",
   "execution_count": 100,
   "metadata": {},
   "outputs": [
    {
     "data": {
      "text/plain": [
       "(370202, 14)"
      ]
     },
     "execution_count": 100,
     "metadata": {},
     "output_type": "execute_result"
    }
   ],
   "source": [
    "df_new.shape"
   ]
  },
  {
   "cell_type": "markdown",
   "metadata": {},
   "source": [
    "<div id='q5.1'> <h3> <a href=#Contents>Q5.1 Generate new meaningfull features</a> </h3></div>"
   ]
  },
  {
   "cell_type": "markdown",
   "metadata": {},
   "source": [
    "#### 5.1.1. Mean & Median goal for category\n",
    "\n",
    "Creating a new features which shows `mean` & `median` of the `usd_goal_real` for successful projects inside the category."
   ]
  },
  {
   "cell_type": "code",
   "execution_count": 101,
   "metadata": {},
   "outputs": [],
   "source": [
    "gp_mean_success_goal = df_new[df_new.succeses == 1]\\\n",
    "                .groupby('category')['usd_goal_real']\\\n",
    "                .mean()\n",
    "\n",
    "gp_median_success_goal = df_new[df_new.succeses == 1]\\\n",
    "                .groupby('category')['usd_goal_real']\\\n",
    "                .median()"
   ]
  },
  {
   "cell_type": "code",
   "execution_count": 102,
   "metadata": {},
   "outputs": [],
   "source": [
    "df_new['mean_cat_success_goal'] = df_new['category'].map(gp_mean_success_goal)\n",
    "\n",
    "df_new['median_cat_success_goal'] = df_new['category'].map(gp_median_success_goal)"
   ]
  },
  {
   "cell_type": "markdown",
   "metadata": {},
   "source": [
    "#### 5.1.2 (Median / Goal) & (Mean / Goal) ratio\n",
    "\n",
    "This ratio suppose to show how close the goal stated for the particular project to the mean and median goal of the successful projects from this category"
   ]
  },
  {
   "cell_type": "code",
   "execution_count": 103,
   "metadata": {},
   "outputs": [],
   "source": [
    "df_new['goal2mean'] = df_new['usd_goal_real'] / df_new['mean_cat_success_goal']\n",
    "\n",
    "df_new['goal2median'] = df_new['usd_goal_real'] / df_new['median_cat_success_goal']"
   ]
  },
  {
   "cell_type": "markdown",
   "metadata": {},
   "source": [
    "#### 5.1.3 Month & weekday of the project launch\n",
    "\n",
    "Creating `weekday` & `month` features"
   ]
  },
  {
   "cell_type": "code",
   "execution_count": 104,
   "metadata": {},
   "outputs": [],
   "source": [
    "df_new['weekday'] = df_new.launched.dt.weekday\n",
    "df_new['month'] = df_new.launched.dt.month"
   ]
  },
  {
   "cell_type": "markdown",
   "metadata": {},
   "source": [
    "#### 5.1.4 Number of words in project name"
   ]
  },
  {
   "cell_type": "code",
   "execution_count": 105,
   "metadata": {},
   "outputs": [],
   "source": [
    "df_new['num_words'] = df_new.name.apply(lambda string: len(string.split()))"
   ]
  },
  {
   "cell_type": "markdown",
   "metadata": {},
   "source": [
    "#### 5.1.5 Project name Vowels / letters ratio"
   ]
  },
  {
   "cell_type": "code",
   "execution_count": 106,
   "metadata": {},
   "outputs": [],
   "source": [
    "def vowels2LettersRatio(s):\n",
    "    '''Count ratio between vowels and letters in the word'''\n",
    "    num_vowels = len([i for i in s if i in 'aeiou'])\n",
    "    return 0 if len(s) == 0 else num_vowels / len(s)\n",
    "        "
   ]
  },
  {
   "cell_type": "code",
   "execution_count": 107,
   "metadata": {},
   "outputs": [],
   "source": [
    "# for each name calculate vowels ratio\n",
    "df_new['name_vowel_ratio'] = df_new.name_letters.apply(vowels2LettersRatio)"
   ]
  },
  {
   "cell_type": "markdown",
   "metadata": {},
   "source": [
    "#### Drop some features which looks less important"
   ]
  },
  {
   "cell_type": "code",
   "execution_count": 108,
   "metadata": {},
   "outputs": [],
   "source": [
    "df_new.drop(['name', 'name_letters','deadline', 'goal', 'launched'], axis=1, inplace=True)"
   ]
  },
  {
   "cell_type": "markdown",
   "metadata": {},
   "source": [
    "#### Dealing with categorical features"
   ]
  },
  {
   "cell_type": "code",
   "execution_count": 109,
   "metadata": {},
   "outputs": [],
   "source": [
    "categorical_features_new = ['category', 'main_category', 'region', 'country', 'currency']\n",
    "numerical_features_new = ['usd_goal_real',\n",
    "                          'year',\n",
    "                          'duration_days',\n",
    "                          'mean_cat_success_goal',\n",
    "                          'median_cat_success_goal',\n",
    "                         'goal2mean',\n",
    "                         'goal2median']"
   ]
  },
  {
   "cell_type": "code",
   "execution_count": 110,
   "metadata": {},
   "outputs": [],
   "source": [
    "dummies_new = pd.get_dummies(df_new[categorical_features_new], drop_first=True) #drop one column for every dummy category\n",
    "\n",
    "df_new = pd.concat([df_new, dummies_new], axis=1).drop(categorical_features_new, axis=1)"
   ]
  },
  {
   "cell_type": "code",
   "execution_count": 111,
   "metadata": {},
   "outputs": [],
   "source": [
    "# df_new[categorical_features_new] = df_new[categorical_features_new].astype('category')\n",
    "\n",
    "# for feature in categorical_features_new:\n",
    "#     df_new[feature] = df_new[feature].cat.codes"
   ]
  },
  {
   "cell_type": "code",
   "execution_count": 112,
   "metadata": {},
   "outputs": [
    {
     "data": {
      "text/html": [
       "<div>\n",
       "<style scoped>\n",
       "    .dataframe tbody tr th:only-of-type {\n",
       "        vertical-align: middle;\n",
       "    }\n",
       "\n",
       "    .dataframe tbody tr th {\n",
       "        vertical-align: top;\n",
       "    }\n",
       "\n",
       "    .dataframe thead th {\n",
       "        text-align: right;\n",
       "    }\n",
       "</style>\n",
       "<table border=\"1\" class=\"dataframe\">\n",
       "  <thead>\n",
       "    <tr style=\"text-align: right;\">\n",
       "      <th></th>\n",
       "      <th>succeses</th>\n",
       "      <th>usd_goal_real</th>\n",
       "      <th>year</th>\n",
       "      <th>duration_days</th>\n",
       "      <th>mean_cat_success_goal</th>\n",
       "      <th>median_cat_success_goal</th>\n",
       "      <th>goal2mean</th>\n",
       "      <th>goal2median</th>\n",
       "      <th>weekday</th>\n",
       "      <th>month</th>\n",
       "      <th>...</th>\n",
       "      <th>currency_EUR</th>\n",
       "      <th>currency_GBP</th>\n",
       "      <th>currency_HKD</th>\n",
       "      <th>currency_JPY</th>\n",
       "      <th>currency_MXN</th>\n",
       "      <th>currency_NOK</th>\n",
       "      <th>currency_NZD</th>\n",
       "      <th>currency_SEK</th>\n",
       "      <th>currency_SGD</th>\n",
       "      <th>currency_USD</th>\n",
       "    </tr>\n",
       "    <tr>\n",
       "      <th>ID</th>\n",
       "      <th></th>\n",
       "      <th></th>\n",
       "      <th></th>\n",
       "      <th></th>\n",
       "      <th></th>\n",
       "      <th></th>\n",
       "      <th></th>\n",
       "      <th></th>\n",
       "      <th></th>\n",
       "      <th></th>\n",
       "      <th></th>\n",
       "      <th></th>\n",
       "      <th></th>\n",
       "      <th></th>\n",
       "      <th></th>\n",
       "      <th></th>\n",
       "      <th></th>\n",
       "      <th></th>\n",
       "      <th></th>\n",
       "      <th></th>\n",
       "      <th></th>\n",
       "    </tr>\n",
       "  </thead>\n",
       "  <tbody>\n",
       "    <tr>\n",
       "      <th>1000002330</th>\n",
       "      <td>0</td>\n",
       "      <td>1533.950</td>\n",
       "      <td>2015</td>\n",
       "      <td>58</td>\n",
       "      <td>2417.585</td>\n",
       "      <td>1126.030</td>\n",
       "      <td>0.634</td>\n",
       "      <td>1.362</td>\n",
       "      <td>1</td>\n",
       "      <td>8</td>\n",
       "      <td>...</td>\n",
       "      <td>0</td>\n",
       "      <td>1</td>\n",
       "      <td>0</td>\n",
       "      <td>0</td>\n",
       "      <td>0</td>\n",
       "      <td>0</td>\n",
       "      <td>0</td>\n",
       "      <td>0</td>\n",
       "      <td>0</td>\n",
       "      <td>0</td>\n",
       "    </tr>\n",
       "    <tr>\n",
       "      <th>1000003930</th>\n",
       "      <td>0</td>\n",
       "      <td>30000.000</td>\n",
       "      <td>2017</td>\n",
       "      <td>59</td>\n",
       "      <td>17593.963</td>\n",
       "      <td>7000.000</td>\n",
       "      <td>1.705</td>\n",
       "      <td>4.286</td>\n",
       "      <td>5</td>\n",
       "      <td>9</td>\n",
       "      <td>...</td>\n",
       "      <td>0</td>\n",
       "      <td>0</td>\n",
       "      <td>0</td>\n",
       "      <td>0</td>\n",
       "      <td>0</td>\n",
       "      <td>0</td>\n",
       "      <td>0</td>\n",
       "      <td>0</td>\n",
       "      <td>0</td>\n",
       "      <td>1</td>\n",
       "    </tr>\n",
       "    <tr>\n",
       "      <th>1000004038</th>\n",
       "      <td>0</td>\n",
       "      <td>45000.000</td>\n",
       "      <td>2013</td>\n",
       "      <td>44</td>\n",
       "      <td>17593.963</td>\n",
       "      <td>7000.000</td>\n",
       "      <td>2.558</td>\n",
       "      <td>6.429</td>\n",
       "      <td>5</td>\n",
       "      <td>1</td>\n",
       "      <td>...</td>\n",
       "      <td>0</td>\n",
       "      <td>0</td>\n",
       "      <td>0</td>\n",
       "      <td>0</td>\n",
       "      <td>0</td>\n",
       "      <td>0</td>\n",
       "      <td>0</td>\n",
       "      <td>0</td>\n",
       "      <td>0</td>\n",
       "      <td>1</td>\n",
       "    </tr>\n",
       "    <tr>\n",
       "      <th>1000007540</th>\n",
       "      <td>0</td>\n",
       "      <td>5000.000</td>\n",
       "      <td>2012</td>\n",
       "      <td>29</td>\n",
       "      <td>7003.922</td>\n",
       "      <td>3800.000</td>\n",
       "      <td>0.714</td>\n",
       "      <td>1.316</td>\n",
       "      <td>5</td>\n",
       "      <td>3</td>\n",
       "      <td>...</td>\n",
       "      <td>0</td>\n",
       "      <td>0</td>\n",
       "      <td>0</td>\n",
       "      <td>0</td>\n",
       "      <td>0</td>\n",
       "      <td>0</td>\n",
       "      <td>0</td>\n",
       "      <td>0</td>\n",
       "      <td>0</td>\n",
       "      <td>1</td>\n",
       "    </tr>\n",
       "    <tr>\n",
       "      <th>1000011046</th>\n",
       "      <td>0</td>\n",
       "      <td>19500.000</td>\n",
       "      <td>2015</td>\n",
       "      <td>55</td>\n",
       "      <td>9886.174</td>\n",
       "      <td>4000.000</td>\n",
       "      <td>1.972</td>\n",
       "      <td>4.875</td>\n",
       "      <td>5</td>\n",
       "      <td>7</td>\n",
       "      <td>...</td>\n",
       "      <td>0</td>\n",
       "      <td>0</td>\n",
       "      <td>0</td>\n",
       "      <td>0</td>\n",
       "      <td>0</td>\n",
       "      <td>0</td>\n",
       "      <td>0</td>\n",
       "      <td>0</td>\n",
       "      <td>0</td>\n",
       "      <td>1</td>\n",
       "    </tr>\n",
       "  </tbody>\n",
       "</table>\n",
       "<p>5 rows × 221 columns</p>\n",
       "</div>"
      ],
      "text/plain": [
       "            succeses  usd_goal_real  year  duration_days  \\\n",
       "ID                                                         \n",
       "1000002330         0       1533.950  2015             58   \n",
       "1000003930         0      30000.000  2017             59   \n",
       "1000004038         0      45000.000  2013             44   \n",
       "1000007540         0       5000.000  2012             29   \n",
       "1000011046         0      19500.000  2015             55   \n",
       "\n",
       "            mean_cat_success_goal  median_cat_success_goal  goal2mean  \\\n",
       "ID                                                                      \n",
       "1000002330               2417.585                 1126.030      0.634   \n",
       "1000003930              17593.963                 7000.000      1.705   \n",
       "1000004038              17593.963                 7000.000      2.558   \n",
       "1000007540               7003.922                 3800.000      0.714   \n",
       "1000011046               9886.174                 4000.000      1.972   \n",
       "\n",
       "            goal2median  weekday  month  ...  currency_EUR  currency_GBP  \\\n",
       "ID                                       ...                               \n",
       "1000002330        1.362        1      8  ...             0             1   \n",
       "1000003930        4.286        5      9  ...             0             0   \n",
       "1000004038        6.429        5      1  ...             0             0   \n",
       "1000007540        1.316        5      3  ...             0             0   \n",
       "1000011046        4.875        5      7  ...             0             0   \n",
       "\n",
       "            currency_HKD  currency_JPY  currency_MXN  currency_NOK  \\\n",
       "ID                                                                   \n",
       "1000002330             0             0             0             0   \n",
       "1000003930             0             0             0             0   \n",
       "1000004038             0             0             0             0   \n",
       "1000007540             0             0             0             0   \n",
       "1000011046             0             0             0             0   \n",
       "\n",
       "            currency_NZD  currency_SEK  currency_SGD  currency_USD  \n",
       "ID                                                                  \n",
       "1000002330             0             0             0             0  \n",
       "1000003930             0             0             0             1  \n",
       "1000004038             0             0             0             1  \n",
       "1000007540             0             0             0             1  \n",
       "1000011046             0             0             0             1  \n",
       "\n",
       "[5 rows x 221 columns]"
      ]
     },
     "execution_count": 112,
     "metadata": {},
     "output_type": "execute_result"
    }
   ],
   "source": [
    "df_new.head()"
   ]
  },
  {
   "cell_type": "code",
   "execution_count": 113,
   "metadata": {
    "scrolled": true
   },
   "outputs": [
    {
     "data": {
      "text/plain": [
       "(370202, 221)"
      ]
     },
     "execution_count": 113,
     "metadata": {},
     "output_type": "execute_result"
    }
   ],
   "source": [
    "df_new.shape"
   ]
  },
  {
   "cell_type": "markdown",
   "metadata": {},
   "source": [
    "#### Train & Test split"
   ]
  },
  {
   "cell_type": "code",
   "execution_count": 114,
   "metadata": {},
   "outputs": [],
   "source": [
    "X_new = df_new.drop('succeses', axis=1)\n",
    "y_new = df_new.succeses\n",
    "\n",
    "X_train_new, X_test_new, y_train_new, y_test_new = train_test_split(X_new,\n",
    "                                                                    y_new,\n",
    "                                                                    test_size=0.2,\n",
    "                                                                    random_state=42)"
   ]
  },
  {
   "cell_type": "markdown",
   "metadata": {},
   "source": [
    "<div id='q5.2'> <h3> <a href=#Contents>Q5.2 Train an xgboost, that's beat random forest</a> </h3></div>"
   ]
  },
  {
   "cell_type": "code",
   "execution_count": 115,
   "metadata": {},
   "outputs": [
    {
     "name": "stdout",
     "output_type": "stream",
     "text": [
      "Fitting 5 folds for each of 4 candidates, totalling 20 fits\n"
     ]
    },
    {
     "name": "stderr",
     "output_type": "stream",
     "text": [
      "[Parallel(n_jobs=-1)]: Using backend LokyBackend with 4 concurrent workers.\n",
      "[Parallel(n_jobs=-1)]: Done   5 tasks      | elapsed: 15.0min\n",
      "[Parallel(n_jobs=-1)]: Done  10 tasks      | elapsed: 26.3min\n",
      "[Parallel(n_jobs=-1)]: Done  16 out of  20 | elapsed: 42.1min remaining: 10.5min\n",
      "[Parallel(n_jobs=-1)]: Done  20 out of  20 | elapsed: 53.5min finished\n"
     ]
    }
   ],
   "source": [
    "from xgboost import XGBClassifier\n",
    "\n",
    "clf_xgb =  XGBClassifier()\n",
    "\n",
    "params = {'n_estimators' : [80, 100],\n",
    "          'max_depth' : [8, 12]}\n",
    "          \n",
    "xgb_grid_search = GridSearchCV(estimator=clf_xgb,\n",
    "                               param_grid=params,\n",
    "                               n_jobs=-1,\n",
    "                               verbose=10)\n",
    "\n",
    "xgb_grid_search.fit(X_train_new, y_train_new)\n",
    "\n",
    "clf_xgb_best = xgb_grid_search.best_estimator_"
   ]
  },
  {
   "cell_type": "code",
   "execution_count": 116,
   "metadata": {},
   "outputs": [],
   "source": [
    "y_pred_xgb = clf_xgb_best.predict(X_test_new)"
   ]
  },
  {
   "cell_type": "code",
   "execution_count": 117,
   "metadata": {},
   "outputs": [
    {
     "data": {
      "image/png": "[encoded data removed]",
      "text/plain": [
       "<Figure size 432x288 with 2 Axes>"
      ]
     },
     "metadata": {
      "needs_background": "light"
     },
     "output_type": "display_data"
    }
   ],
   "source": [
    "plot_confusion_matrix(clf_xgb_best, X_test_new, y_test_new);"
   ]
  },
  {
   "cell_type": "code",
   "execution_count": 118,
   "metadata": {},
   "outputs": [],
   "source": [
    "xgb_features_importance = pd.DataFrame({'Feature' : X_train_new.columns,\n",
    "                                        'Importance' : clf_xgb_best.feature_importances_})\\\n",
    "                                        .sort_values(by='Importance', ascending=False)"
   ]
  },
  {
   "cell_type": "code",
   "execution_count": 119,
   "metadata": {
    "scrolled": true
   },
   "outputs": [
    {
     "data": {
      "text/html": [
       "<div>\n",
       "<style scoped>\n",
       "    .dataframe tbody tr th:only-of-type {\n",
       "        vertical-align: middle;\n",
       "    }\n",
       "\n",
       "    .dataframe tbody tr th {\n",
       "        vertical-align: top;\n",
       "    }\n",
       "\n",
       "    .dataframe thead th {\n",
       "        text-align: right;\n",
       "    }\n",
       "</style>\n",
       "<table border=\"1\" class=\"dataframe\">\n",
       "  <thead>\n",
       "    <tr style=\"text-align: right;\">\n",
       "      <th></th>\n",
       "      <th>Feature</th>\n",
       "      <th>Importance</th>\n",
       "    </tr>\n",
       "  </thead>\n",
       "  <tbody>\n",
       "    <tr>\n",
       "      <th>18</th>\n",
       "      <td>category_Apps</td>\n",
       "      <td>0.033</td>\n",
       "    </tr>\n",
       "    <tr>\n",
       "      <th>6</th>\n",
       "      <td>goal2median</td>\n",
       "      <td>0.027</td>\n",
       "    </tr>\n",
       "    <tr>\n",
       "      <th>169</th>\n",
       "      <td>main_category_Comics</td>\n",
       "      <td>0.026</td>\n",
       "    </tr>\n",
       "    <tr>\n",
       "      <th>178</th>\n",
       "      <td>main_category_Music</td>\n",
       "      <td>0.026</td>\n",
       "    </tr>\n",
       "    <tr>\n",
       "      <th>182</th>\n",
       "      <td>main_category_Theater</td>\n",
       "      <td>0.025</td>\n",
       "    </tr>\n",
       "    <tr>\n",
       "      <th>78</th>\n",
       "      <td>category_Hip-Hop</td>\n",
       "      <td>0.023</td>\n",
       "    </tr>\n",
       "    <tr>\n",
       "      <th>98</th>\n",
       "      <td>category_Mobile Games</td>\n",
       "      <td>0.021</td>\n",
       "    </tr>\n",
       "    <tr>\n",
       "      <th>146</th>\n",
       "      <td>category_Tabletop Games</td>\n",
       "      <td>0.021</td>\n",
       "    </tr>\n",
       "    <tr>\n",
       "      <th>161</th>\n",
       "      <td>category_Web</td>\n",
       "      <td>0.021</td>\n",
       "    </tr>\n",
       "    <tr>\n",
       "      <th>173</th>\n",
       "      <td>main_category_Fashion</td>\n",
       "      <td>0.020</td>\n",
       "    </tr>\n",
       "  </tbody>\n",
       "</table>\n",
       "</div>"
      ],
      "text/plain": [
       "                     Feature  Importance\n",
       "18             category_Apps       0.033\n",
       "6                goal2median       0.027\n",
       "169     main_category_Comics       0.026\n",
       "178      main_category_Music       0.026\n",
       "182    main_category_Theater       0.025\n",
       "78          category_Hip-Hop       0.023\n",
       "98     category_Mobile Games       0.021\n",
       "146  category_Tabletop Games       0.021\n",
       "161             category_Web       0.021\n",
       "173    main_category_Fashion       0.020"
      ]
     },
     "execution_count": 119,
     "metadata": {},
     "output_type": "execute_result"
    }
   ],
   "source": [
    "xgb_features_importance.head(10)"
   ]
  },
  {
   "cell_type": "markdown",
   "metadata": {},
   "source": [
    "### Final accuracy of XGBoost model"
   ]
  },
  {
   "cell_type": "code",
   "execution_count": 120,
   "metadata": {},
   "outputs": [
    {
     "data": {
      "text/plain": [
       "0.708"
      ]
     },
     "execution_count": 120,
     "metadata": {},
     "output_type": "execute_result"
    }
   ],
   "source": [
    "round(accuracy_score(y_test_new, y_pred_xgb), 3)"
   ]
  }
 ],
 "metadata": {
  "colab": {
   "name": "kickstarter.ipynb",
   "provenance": []
  },
  "kernelspec": {
   "display_name": "Python 3",
   "language": "python",
   "name": "python3"
  },
  "language_info": {
   "codemirror_mode": {
    "name": "ipython",
    "version": 3
   },
   "file_extension": ".py",
   "mimetype": "text/x-python",
   "name": "python",
   "nbconvert_exporter": "python",
   "pygments_lexer": "ipython3",
   "version": "3.8.6"
  }
 },
 "nbformat": 4,
 "nbformat_minor": 4
}
